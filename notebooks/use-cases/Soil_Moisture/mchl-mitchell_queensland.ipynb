{
 "cells": [
  {
   "cell_type": "markdown",
   "metadata": {
    "pycharm": {
     "name": "#%% md\n"
    }
   },
   "source": [
    "### Mitchell\n",
    "\n",
    "**Station Name:** \tmchl (mchl00aus)\n",
    "\n",
    "**Location:** Walhallow, Queensland, Austalia\n",
    "\n",
    "**Ellipsoidal Coordinates:**\n",
    "\n",
    "- Latitude: -26.359 degrees\n",
    "\n",
    "- Longitude: 148.145 degrees\n",
    "\n",
    "- Height: 534.591 meters\n",
    "\n",
    "[Station Page at Nevada Geodetic Laboratory](http://geodesy.unr.edu/NGLStationPages/stations/MCHL.sta)\n",
    "\n",
    "[Google Maps Link](https://www.google.com/maps/place/26%C2%B021'32.4%22S+148%C2%B008'42.0%22E/@-26.359,148.145,11z/data=!4m5!3m4!1s0x0:0x9200f9ebb23ec5b1!8m2!3d-26.359!4d148.145?hl=en) \n",
    "\n",
    "<p align=center>\n",
    "<img src=\"../../../data/mchl.png\" width=\"500\">\n",
    "</p>\n",
    "\n",
    "**Archives:** CDDIS, BKG, GA\n",
    " \n",
    "Read the instructions for the [soil moisture code!](https://github.com/kristinemlarson/gnssrefl/blob/master/docs/README_vwc.md)!"
   ]
  },
  {
   "cell_type": "code",
   "execution_count": null,
   "metadata": {
    "ExecuteTime": {
     "end_time": "2022-09-25T23:05:54.200742Z",
     "start_time": "2022-09-25T23:05:51.088295Z"
    },
    "pycharm": {
     "name": "#%%\n"
    }
   },
   "outputs": [],
   "source": [
    "import os\n",
    "import sys\n",
    "\n",
    "import seaborn as sns;\n",
    "\n",
    "sns.set_theme(style=\"whitegrid\");\n",
    "\n",
    "# We are including our repository bin to the system path so that we can import the following python modules\n",
    "bin_path = os.path.abspath(os.path.join('../../../bin'))\n",
    "if bin_path not in sys.path:\n",
    "    sys.path.append(bin_path)\n",
    "\n",
    "import gnssrefl_helpers\n",
    "\n",
    "#Making sure environment variables are set - this is required to run the gnssrefl code\n",
    "exists = gnssrefl_helpers.check_environment()\n",
    "if exists == False:\n",
    "    gnssrefl_helpers.set_environment(refl_code=\"../../..\", orbits=\"../../../orbits\", exe=\"../../../bin/exe\")\n",
    "\n",
    "# Set local variable of refl_code location\n",
    "refl_code_loc = os.environ['REFL_CODE']\n",
    "\n",
    "# import gnssrefl functions\n",
    "from gnssrefl.make_json_input import make_json\n",
    "from gnssrefl.rinex2snr_cl import rinex2snr\n",
    "from gnssrefl.gnssir_cl import gnssir\n",
    "from gnssrefl.vwc_input import vwc_input\n",
    "from gnssrefl.quickPhase import quickphase\n",
    "from gnssrefl.vwc import vwc\n",
    "from gnssrefl.installexe_cl import installexe\n",
    "\n",
    "#@formatter:off\n",
    "%matplotlib inline"
   ]
  },
  {
   "cell_type": "code",
   "execution_count": null,
   "metadata": {
    "pycharm": {
     "name": "#%%\n"
    }
   },
   "outputs": [],
   "source": [
    "# import the crx2rnx file which is dependant on your working OS - this is required to run the gnssrefl code\n",
    "# If in docker environment, then you do not need to download crxnrnx\n",
    "try:\n",
    "    os.environ['DOCKER']\n",
    "except KeyError:\n",
    "    sys = gnssrefl_helpers.get_sys()\n",
    "    installexe(sys)"
   ]
  },
  {
   "cell_type": "markdown",
   "metadata": {
    "pycharm": {
     "name": "#%% md\n"
    }
   },
   "source": [
    "#### Step 1: GNSS-IR\n",
    "Begin by generating the SNR files. To be sure we can get the L2C data, we will use the RINEX 3 files.\n",
    "These require the longer station name (mchl00aus) and are available at either cddis or ga.\n",
    "Choose the one that is less slow for you. \n",
    "In some cases we hae found the data are at cddis but not ga or vice versa. Apparently the data are also \n",
    "available from BKG. We are not sure why this is. If you have a way to access \n",
    "these files, just download them and put them in the local\n",
    "processing area and use the -nolook option). We are going to start with two years of data and \n",
    "using the default GPS orbit option and the cddis archive:"
   ]
  },
  {
   "cell_type": "code",
   "execution_count": null,
   "metadata": {
    "ExecuteTime": {
     "start_time": "2022-09-25T22:59:14.619Z"
    },
    "pycharm": {
     "name": "#%%\n"
    }
   },
   "outputs": [],
   "source": [
    "rinex2snr('mchl00aus', 2017, 1, doy_end=365, year_end=2018, archive='cddis')"
   ]
  },
  {
   "cell_type": "markdown",
   "metadata": {
    "pycharm": {
     "name": "#%% md\n"
    }
   },
   "source": [
    "If you have any difficult downloading these RINEX 3 files, UNAVCO has kindly downloaded and converted \n",
    "a few years of files into RINEX 2.11 that includes L2C data. Uncomment the line below if you want to use this:"
   ]
  },
  {
   "cell_type": "code",
   "execution_count": null,
   "metadata": {
    "ExecuteTime": {
     "start_time": "2022-09-25T22:47:44.532Z"
    },
    "pycharm": {
     "name": "#%%\n"
    }
   },
   "outputs": [],
   "source": [
    "#rinex2snr('mchl', 2017, 1, doy_end=365, archive='special')"
   ]
  },
  {
   "cell_type": "markdown",
   "metadata": {
    "pycharm": {
     "name": "#%% md\n"
    }
   },
   "source": [
    "Use the <code>quickLook</code> with the l2c frequency to give a look to the data quality.\n",
    "Then set up your parameters with <code>make_json_input</code>"
   ]
  },
  {
   "cell_type": "code",
   "execution_count": null,
   "metadata": {
    "ExecuteTime": {
     "end_time": "2022-09-25T22:48:15.302033Z",
     "start_time": "2022-09-25T22:48:15.282158Z"
    },
    "pycharm": {
     "name": "#%%\n"
    }
   },
   "outputs": [],
   "source": [
    "make_json('mchl', 0, 0, 0, l2c=True)"
   ]
  },
  {
   "cell_type": "markdown",
   "metadata": {
    "pycharm": {
     "name": "#%% md\n"
    }
   },
   "source": [
    "The location of the json file is printed to the screen. \n",
    "The default behavior is to accept all azimuths.\n",
    "Modify the azimuths in the json if you feel that is needed.\n",
    "How can you tell if you have bad azimuths? Look back at the <code>quickLook</code> results.\n",
    "Do not worry excessively about this at this stage. Once you have a VWC solution you can go back and easily/quickly iterate to remove bad \n",
    "azimuths and satellite tracks.\n",
    "\n",
    "Run the <code>gnssir</code> each day in 2017 and 2018:"
   ]
  },
  {
   "cell_type": "code",
   "execution_count": null,
   "metadata": {
    "ExecuteTime": {
     "end_time": "2022-09-25T22:50:34.374893Z",
     "start_time": "2022-09-25T22:48:22.067923Z"
    },
    "pycharm": {
     "name": "#%%\n"
    }
   },
   "outputs": [],
   "source": [
    "gnssir('mchl', 2017, 1, doy_end=365, year_end=2018)"
   ]
  },
  {
   "cell_type": "markdown",
   "metadata": {
    "pycharm": {
     "name": "#%% md\n"
    }
   },
   "source": [
    "#### Step 2: Soil Moisture\n",
    "\n",
    "Pick the satellite tracks you are going to use:\n"
   ]
  },
  {
   "cell_type": "code",
   "execution_count": null,
   "metadata": {
    "ExecuteTime": {
     "start_time": "2022-09-25T23:05:20.594Z"
    },
    "pycharm": {
     "name": "#%%\n"
    }
   },
   "outputs": [],
   "source": [
    "vwc_input?"
   ]
  },
  {
   "cell_type": "code",
   "execution_count": null,
   "metadata": {
    "ExecuteTime": {
     "end_time": "2022-09-25T23:06:01.706263Z",
     "start_time": "2022-09-25T23:06:01.297745Z"
    },
    "pycharm": {
     "name": "#%%\n"
    }
   },
   "outputs": [],
   "source": [
    "vwc_input('mchl', 2017)"
   ]
  },
  {
   "cell_type": "markdown",
   "metadata": {
    "pycharm": {
     "name": "#%% md\n"
    }
   },
   "source": [
    "This creates a file that will go in $REFL_CODE/input/mchl_phaseRH.txt\n",
    "\n",
    "This file can be hand edited if you find out later that a \n",
    "particularly satellite track is not working. To comment lines out you use %.\n",
    "\n",
    "Run the <code>phase</code> code:"
   ]
  },
  {
   "cell_type": "code",
   "execution_count": null,
   "metadata": {
    "ExecuteTime": {
     "end_time": "2022-09-25T23:07:54.552611Z",
     "start_time": "2022-09-25T23:06:08.517180Z"
    },
    "pycharm": {
     "name": "#%%\n"
    }
   },
   "outputs": [],
   "source": [
    "quickphase('mchl', 2017, 1, doy_end=365, year_end=2018)"
   ]
  },
  {
   "cell_type": "markdown",
   "metadata": {
    "pycharm": {
     "name": "#%% md\n"
    }
   },
   "source": [
    "The location of the output files for this stage are printed to the screen.\n",
    "\n",
    "Finally, the <code>vwc</code> module compiles all the \n",
    "data in the requested years and generates a volumetric water content file.\n",
    "\n",
    "It also produces plots which can help you assess your results:\n",
    "\n",
    "1. Raw phases in geographic quadrants\n",
    "2. Daily phase averages\n",
    "3. Modeling Results\n",
    "4. Final VWC"
   ]
  },
  {
   "cell_type": "code",
   "execution_count": null,
   "metadata": {
    "ExecuteTime": {
     "end_time": "2022-09-25T23:09:39.214075Z",
     "start_time": "2022-09-25T23:09:35.617583Z"
    },
    "pycharm": {
     "name": "#%%\n"
    },
    "scrolled": false
   },
   "outputs": [],
   "source": [
    "vwc('mchl',  2017, year_end=2018)"
   ]
  },
  {
   "cell_type": "markdown",
   "metadata": {
    "pycharm": {
     "name": "#%% md\n"
    }
   },
   "source": [
    "A big thank you to Lucas Holden for test driving this use case."
   ]
  }
 ],
 "metadata": {
  "kernelspec": {
   "display_name": "gnssrefl_jupyter",
   "language": "python",
   "name": "gnssrefl_jupyter"
  },
  "language_info": {
   "codemirror_mode": {
    "name": "ipython",
    "version": 3
   },
   "file_extension": ".py",
   "mimetype": "text/x-python",
   "name": "python",
   "nbconvert_exporter": "python",
   "pygments_lexer": "ipython3",
   "version": "3.9.8"
  }
 },
 "nbformat": 4,
 "nbformat_minor": 4
}