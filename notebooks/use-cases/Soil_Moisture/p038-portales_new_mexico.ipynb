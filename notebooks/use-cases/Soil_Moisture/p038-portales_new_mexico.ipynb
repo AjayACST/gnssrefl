{
 "cells": [
  {
   "cell_type": "markdown",
   "metadata": {
    "ExecuteTime": {
     "end_time": "2022-09-07T23:30:29.604104Z",
     "start_time": "2022-09-07T23:30:29.589736Z"
    },
    "pycharm": {
     "name": "#%% md\n"
    }
   },
   "source": [
    "### Soil Moisture in Portales, New Mexico\n",
    "\n",
    "**Station Name:**  p038\n",
    "\n",
    "**Location:**  Portales, New Mexico, USA\n",
    "\n",
    "**Archive:** [UNAVCO](http://www.unavco.org)\n",
    "\n",
    "**Ellipsoidal Coordinates:**\n",
    "\n",
    "- Latitude: 34.14726 degrees\n",
    "\n",
    "- Longitude: -103.40734 degrees\n",
    "\n",
    "- Height: 1212.982 meters\n",
    "\n",
    "[Station Page at UNAVCO](https://www.unavco.org/instrumentation/networks/status/nota/overview/P038)\n",
    "\n",
    "[Google Maps Link](https://www.google.com/maps/place/34%C2%B008'50.1%22N+103%C2%B024'26.4%22W/@34.14725,-103.4073333,17z/data=!3m1!4b1!4m5!3m4!1s0x0:0x64e449f205085274!8m2!3d34.14725!4d-103.4073333) \n",
    "\n",
    "<p align=\"center\">\n",
    "<img src=\"../../../data/p038.png\" width=\"500\"/>\n",
    "</P>"
   ]
  },
  {
   "cell_type": "markdown",
   "metadata": {
    "pycharm": {
     "name": "#%% md\n"
    }
   },
   "source": [
    "P038 was a PBO site. The data from 2017 will be analyzed here as a test case. We will start by analyzing the data \n",
    "using the normal reflector height (GNSS-IR) processing. Then we will use those results to run the soil moisture code.\n",
    "\n",
    "First, start by importing everything we need to run GNSS-IR:"
   ]
  },
  {
   "cell_type": "code",
   "execution_count": null,
   "metadata": {
    "ExecuteTime": {
     "end_time": "2022-09-26T06:00:29.767152Z",
     "start_time": "2022-09-26T06:00:25.452189Z"
    },
    "pycharm": {
     "name": "#%%\n"
    }
   },
   "outputs": [],
   "source": [
    "import json\n",
    "import os\n",
    "import sys\n",
    "\n",
    "import seaborn as sns;\n",
    "\n",
    "sns.set_theme(style=\"whitegrid\");\n",
    "\n",
    "# We are including our repository bin to the system path so that we can import the following python modules\n",
    "bin_path = os.path.abspath(os.path.join('../../../bin'))\n",
    "if bin_path not in sys.path:\n",
    "    sys.path.append(bin_path)\n",
    "\n",
    "import gnssrefl_helpers\n",
    "\n",
    "#Making sure environment variables are set - this is required to run the gnssrefl code\n",
    "exists = gnssrefl_helpers.check_environment()\n",
    "if exists == False:\n",
    "    gnssrefl_helpers.set_environment(refl_code=\"../../..\", orbits=\"../../../orbits\", exe=\"../../../bin/exe\")\n",
    "\n",
    "# Set local variable of refl_code location\n",
    "refl_code_loc = os.environ['REFL_CODE']\n",
    "\n",
    "# import gnssrefl functions\n",
    "from gnssrefl.rinex2snr_cl import rinex2snr\n",
    "from gnssrefl.make_json_input import make_json\n",
    "from gnssrefl.gnssir_cl import gnssir\n",
    "from gnssrefl.vwc_input import vwc_input\n",
    "from gnssrefl.quickPhase import quickphase\n",
    "from gnssrefl.vwc import vwc\n",
    "from gnssrefl.installexe_cl import installexe\n",
    "\n",
    "#@formatter:off\n",
    "%matplotlib inline"
   ]
  },
  {
   "cell_type": "code",
   "execution_count": null,
   "metadata": {
    "pycharm": {
     "name": "#%%\n"
    }
   },
   "outputs": [],
   "source": [
    "# import the crx2rnx file which is dependant on your working OS - this is required to run the gnssrefl code\n",
    "# If in docker environment, then you do not need to download crxnrnx\n",
    "try:\n",
    "    os.environ['DOCKER']\n",
    "except KeyError:\n",
    "    sys = gnssrefl_helpers.get_sys()\n",
    "    installexe(sys)"
   ]
  },
  {
   "cell_type": "markdown",
   "metadata": {
    "ExecuteTime": {
     "end_time": "2022-09-07T23:34:56.763632Z",
     "start_time": "2022-09-07T23:34:56.758935Z"
    },
    "pycharm": {
     "name": "#%% md\n"
    }
   },
   "source": [
    "#### Step 1: GNSS-IR\n",
    "Begin by generating the SNR files. Although typically PBO sites do not have L2C \n",
    "data in their low-rate RINEX files, UNAVCO is providing these data in the \"special\" archive section\n",
    "so that people can test out this code."
   ]
  },
  {
   "cell_type": "code",
   "execution_count": null,
   "metadata": {
    "ExecuteTime": {
     "end_time": "2022-09-25T15:25:14.232190Z",
     "start_time": "2022-09-25T15:11:58.062948Z"
    },
    "pycharm": {
     "name": "#%%\n"
    }
   },
   "outputs": [],
   "source": [
    "# Set station, year, doy, and doy_end as variables so they can be used throughout the rest of this example\n",
    "station = 'p038'\n",
    "year=2017\n",
    "doy=1\n",
    "doy_end=365\n",
    "\n",
    "rinex2snr(station=station, year=year, doy=doy, doy_end=doy_end, archive='special')"
   ]
  },
  {
   "cell_type": "markdown",
   "metadata": {
    "pycharm": {
     "name": "#%% md\n"
    }
   },
   "source": [
    "If you want to remind yourself why the L2C data are superior to the L1 data recorded for this receiver, use <code>quickLook</code>. You will need to import it from gnssrefl.\n",
    "\n",
    "The analysis parameters are set up with <code>make_json</code>. While ordinarily you need to input \n",
    "the station latitude, longitude, and ellipsoidal height for this code, if the station is in the <code>gnssrefl</code> database (this station is), you can \n",
    "put zero values there instead. We only need the L2C data, so have set the parameter accordingly."
   ]
  },
  {
   "cell_type": "code",
   "execution_count": null,
   "metadata": {
    "ExecuteTime": {
     "end_time": "2022-09-25T23:03:29.293618Z",
     "start_time": "2022-09-25T23:03:29.271465Z"
    },
    "pycharm": {
     "name": "#%%\n"
    }
   },
   "outputs": [],
   "source": [
    "make_json(station, 34.14726, -103.40734, 1212.977, l2c=True)\n",
    "\n",
    "# This is the json file that was created with the defaults/parameters you set above\n",
    "json_file = f'{refl_code_loc}/input/{station}.json'\n",
    "with open(json_file, \"r\") as myfile:\n",
    "    file = json.load(myfile)\n",
    "    \n",
    "file"
   ]
  },
  {
   "cell_type": "markdown",
   "metadata": {
    "pycharm": {
     "name": "#%% md\n"
    }
   },
   "source": [
    "Now we run <code>gnssir</code>. This will be needed for estimate a priori reflector heights for the soil moisture code."
   ]
  },
  {
   "cell_type": "code",
   "execution_count": null,
   "metadata": {
    "ExecuteTime": {
     "end_time": "2022-09-25T23:07:45.263065Z",
     "start_time": "2022-09-25T23:03:32.091422Z"
    },
    "pycharm": {
     "name": "#%%\n"
    }
   },
   "outputs": [],
   "source": [
    "gnssir(station, year, doy, doy_end=doy_end)"
   ]
  },
  {
   "cell_type": "markdown",
   "metadata": {
    "pycharm": {
     "name": "#%% md\n"
    }
   },
   "source": [
    "#### Step 2: Soil Moisture\n",
    "\n",
    "[Please read the soil moisture user manual.](https://github.com/kristinemlarson/gnssrefl/blob/master/docs/README_vwc.md) It is very short and has a lot of tips that will save you time.\n",
    "\n",
    "We need a list of satellite tracks to use:"
   ]
  },
  {
   "cell_type": "code",
   "execution_count": null,
   "metadata": {
    "ExecuteTime": {
     "end_time": "2022-09-25T23:07:53.750032Z",
     "start_time": "2022-09-25T23:07:53.254213Z"
    },
    "pycharm": {
     "name": "#%%\n"
    }
   },
   "outputs": [],
   "source": [
    "# remember you can see what parameters are accepted by running: vwc_input?\n",
    "\n",
    "vwc_input(station, 2017, min_tracks=30)"
   ]
  },
  {
   "cell_type": "markdown",
   "metadata": {
    "pycharm": {
     "name": "#%% md\n"
    }
   },
   "source": [
    "This creates a file that is stored in $REFL_CODE/input/p038_phaseRH.txt\n",
    "\n",
    "Now we estimate the phase for each satellite track on each day:\n"
   ]
  },
  {
   "cell_type": "code",
   "execution_count": null,
   "metadata": {
    "ExecuteTime": {
     "end_time": "2022-09-25T23:11:32.105528Z",
     "start_time": "2022-09-25T23:08:11.881977Z"
    },
    "pycharm": {
     "name": "#%%\n"
    }
   },
   "outputs": [],
   "source": [
    "quickphase(station, year, doy, doy_end=doy_end)"
   ]
  },
  {
   "cell_type": "markdown",
   "metadata": {
    "pycharm": {
     "name": "#%% md\n"
    }
   },
   "source": [
    "Finally, convert the phase to volumetric water content.\n",
    "\n",
    "This will result in 4 plots:\n",
    "1. Phase results in geographic coordinates\n",
    "2. Daily average phase\n",
    "3. Model inputs\n",
    "4. Final Results\n",
    "\n",
    "These will all be saved in $REFL_CODE/Files"
   ]
  },
  {
   "cell_type": "code",
   "execution_count": null,
   "metadata": {
    "ExecuteTime": {
     "end_time": "2022-09-25T23:11:59.603353Z",
     "start_time": "2022-09-25T23:11:56.280080Z"
    },
    "pycharm": {
     "name": "#%%\n"
    },
    "scrolled": false
   },
   "outputs": [],
   "source": [
    "vwc(station, year)"
   ]
  },
  {
   "cell_type": "markdown",
   "metadata": {
    "pycharm": {
     "name": "#%% md\n"
    }
   },
   "source": [
    "Thank you to Naoya Kadota for test driving this use case."
   ]
  }
 ],
 "metadata": {
  "kernelspec": {
   "display_name": "gnssrefl_jupyter",
   "language": "python",
   "name": "gnssrefl_jupyter"
  },
  "language_info": {
   "codemirror_mode": {
    "name": "ipython",
    "version": 3
   },
   "file_extension": ".py",
   "mimetype": "text/x-python",
   "name": "python",
   "nbconvert_exporter": "python",
   "pygments_lexer": "ipython3",
   "version": "3.9.8"
  }
 },
 "nbformat": 4,
 "nbformat_minor": 4
}