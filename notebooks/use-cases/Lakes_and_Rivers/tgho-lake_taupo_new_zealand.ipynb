{
 "cells": [
  {
   "cell_type": "markdown",
   "id": "d40ddc65",
   "metadata": {
    "pycharm": {
     "name": "#%% md\n"
    }
   },
   "source": [
    "### Lake Taupo\n",
    "\n",
    "**Station Name:** tgho \n",
    "\n",
    "**Location:** North Island, New Zealand\n",
    "\n",
    "**Archive:** [Geonet](https://www.geonet.org.nz/)\n",
    "\n",
    "**DOI:**  \tN/A\n",
    "\n",
    "**Ellipsoidal Coordinates:**\n",
    "\n",
    "- Latitude: -38.813\n",
    "\n",
    "- Longitude: 175.996\n",
    "\n",
    "- Height: -38.813 m\n",
    "\n",
    "[Station Page at Geonet](https://www.geonet.org.nz/data/network/mark/TGHO)\n",
    "\n",
    "[Station Page at Nevada Geodetic Laboratory](http://geodesy.unr.edu/NGLStationPages/stations/TGHO.sta)\n",
    "\n",
    "[Google Map Link](https://goo.gl/maps/1zmgi6rRHPVPDAfV8)\n",
    "\n",
    "<p align=\"center\">\n",
    "<img src=\"../../../data/tgho_barker.jpeg\" width=\"500\"><BR>\n",
    "Photo credit: Simon Barker\n",
    "</P>"
   ]
  },
  {
   "cell_type": "markdown",
   "id": "7fe367eb",
   "metadata": {
    "pycharm": {
     "name": "#%% md\n"
    }
   },
   "source": [
    "### Data Summary\n",
    "\n",
    "Station tgho is operated by GNS in new zeland and the site site is located \n",
    "on a platform in Lake Taupo, New Zealand. It records standard GPS and Glonass signals at a low sample rate of 30 sec.\n",
    "\n",
    "### Imports"
   ]
  },
  {
   "cell_type": "code",
   "execution_count": null,
   "id": "05ff6017",
   "metadata": {
    "ExecuteTime": {
     "end_time": "2022-09-28T01:43:45.518625Z",
     "start_time": "2022-09-28T01:43:42.549025Z"
    },
    "pycharm": {
     "name": "#%%\n"
    }
   },
   "outputs": [],
   "source": [
    "import json\n",
    "import os\n",
    "import sys\n",
    "\n",
    "import ipywidgets as widgets\n",
    "\n",
    "# We are including our repository bin to the system path so that we can import the following python modules\n",
    "bin_path = os.path.abspath(os.path.join('../../../bin'))\n",
    "if bin_path not in sys.path:\n",
    "    sys.path.append(bin_path)\n",
    "\n",
    "import gnssrefl_helpers\n",
    "\n",
    "#Making sure environment variables are set - this is required to run the gnssrefl code\n",
    "exists = gnssrefl_helpers.check_environment()\n",
    "if exists == False:\n",
    "    gnssrefl_helpers.set_environment(refl_code=\"../../..\", orbits=\"../../../orbits\", exe=\"../../../bin/exe\")\n",
    "\n",
    "# Set local variable of refl_code location\n",
    "refl_code_loc = os.environ['REFL_CODE']\n",
    "\n",
    "# import gnssrefl functions\n",
    "from gnssrefl.rinex2snr_cl import rinex2snr\n",
    "from gnssrefl.quickLook_cl import quicklook\n",
    "from gnssrefl.make_json_input import make_json\n",
    "from gnssrefl.gnssir_cl import gnssir\n",
    "from gnssrefl.installexe_cl import installexe\n",
    "from gnssrefl.daily_avg_cl import daily_avg\n",
    "\n",
    "#@formatter:off\n",
    "%matplotlib inline"
   ]
  },
  {
   "cell_type": "code",
   "execution_count": null,
   "id": "43307f09",
   "metadata": {
    "pycharm": {
     "name": "#%%\n"
    }
   },
   "outputs": [],
   "source": [
    "# import the crx2rnx file which is dependant on your working OS - this is required to run the gnssrefl code\n",
    "# If in docker environment, then you do not need to download crxnrnx\n",
    "try:\n",
    "    os.environ['DOCKER']\n",
    "except KeyError:\n",
    "    sys = gnssrefl_helpers.get_sys()\n",
    "    installexe(sys)"
   ]
  },
  {
   "cell_type": "markdown",
   "id": "3f79d31d",
   "metadata": {
    "pycharm": {
     "name": "#%% md\n"
    }
   },
   "source": [
    "Fast Mode - this will download data weekly instead of daily"
   ]
  },
  {
   "cell_type": "code",
   "execution_count": null,
   "id": "500eab9c",
   "metadata": {
    "pycharm": {
     "name": "#%%\n"
    }
   },
   "outputs": [],
   "source": [
    "weekly = widgets.Checkbox(value=True, description='Fast Mode', disabled=False, indent=False)\n",
    "display(weekly)"
   ]
  },
  {
   "cell_type": "markdown",
   "id": "49a6eee2",
   "metadata": {
    "pycharm": {
     "name": "#%% md\n"
    }
   },
   "source": [
    "### Take a Quick Look at the Data\n",
    "\n",
    "We will begin like always by making an **SNR** file. Here we will use both GPS and Glonass and we'll set the archive to nz\n",
    "\n",
    "command line: <code>rinex2snr 2020 300 -orb gnss -archive nz</code> <code> quicklook tgho 2020 300</code>"
   ]
  },
  {
   "cell_type": "code",
   "execution_count": null,
   "id": "6a33303c",
   "metadata": {
    "ExecuteTime": {
     "end_time": "2022-09-28T07:11:42.024541Z",
     "start_time": "2022-09-28T07:08:19.090957Z"
    },
    "pycharm": {
     "name": "#%%\n"
    }
   },
   "outputs": [],
   "source": [
    "rinex2snr('dos8', 2022, 69, orb='gps+glo')"
   ]
  },
  {
   "cell_type": "code",
   "execution_count": null,
   "id": "87173e3c",
   "metadata": {
    "ExecuteTime": {
     "end_time": "2022-09-28T01:44:32.955018Z",
     "start_time": "2022-09-28T01:44:31.176616Z"
    },
    "pycharm": {
     "name": "#%%\n"
    }
   },
   "outputs": [],
   "source": [
    "station = 'tgho'\n",
    "# picking a year and day of year\n",
    "year=2020\n",
    "doy=300\n",
    "\n",
    "lat = -38.8130\n",
    "long = 175.9960\n",
    "height = 385.990\n",
    "\n",
    "\n",
    "rinex2snr('tgho', year, doy, orb='gnss', archive='nz')\n",
    "\n",
    "values, metrics = quicklook(station, year, doy)"
   ]
  },
  {
   "cell_type": "markdown",
   "id": "853cf7af",
   "metadata": {
    "pycharm": {
     "name": "#%% md\n"
    }
   },
   "source": [
    " Using the default elevation angles is likely combining water and pier reflections so we will try restricting the close reflections (from the pier) by using a larger lower bound. Let's compare the defaults with 5-15 degrees elevation angles instead of 5-25 to see if this improves the retrievals."
   ]
  },
  {
   "cell_type": "code",
   "execution_count": null,
   "id": "8bbb24ef",
   "metadata": {
    "ExecuteTime": {
     "end_time": "2022-09-28T01:45:17.006345Z",
     "start_time": "2022-09-28T01:45:16.940276Z"
    },
    "pycharm": {
     "name": "#%%\n"
    }
   },
   "outputs": [],
   "source": [
    "quicklook?"
   ]
  },
  {
   "cell_type": "code",
   "execution_count": null,
   "id": "0eb97d43",
   "metadata": {
    "ExecuteTime": {
     "end_time": "2022-09-28T01:46:48.320219Z",
     "start_time": "2022-09-28T01:46:46.630212Z"
    },
    "pycharm": {
     "name": "#%%\n"
    }
   },
   "outputs": [],
   "source": [
    "values, metrics = quicklook(station, year, doy=doy, e2=15)"
   ]
  },
  {
   "cell_type": "markdown",
   "id": "870a1ce4",
   "metadata": {
    "pycharm": {
     "name": "#%% md\n"
    }
   },
   "source": [
    "This does look better. It's possible that the clutter near the monument produces noise at the smaller RH values. A better result can be found if those values are eliminated by setting heights from 2 through 8."
   ]
  },
  {
   "cell_type": "code",
   "execution_count": null,
   "id": "44dfe1fd",
   "metadata": {
    "ExecuteTime": {
     "end_time": "2022-09-28T01:47:22.953511Z",
     "start_time": "2022-09-28T01:47:21.265632Z"
    },
    "pycharm": {
     "name": "#%%\n"
    }
   },
   "outputs": [],
   "source": [
    "values, metrics = quicklook(station, year, doy, e1=5, e2=15, h1=2, h2=8)"
   ]
  },
  {
   "cell_type": "markdown",
   "id": "89c3e2fb",
   "metadata": {
    "pycharm": {
     "name": "#%% md\n"
    }
   },
   "source": [
    "We'll keep in mind from the qc plots here that we'll probably choose our amplitude to be ~9 and our peak to noise ratio to 3.\n",
    "\n",
    "Now let's try looking at the periodograms for L2:"
   ]
  },
  {
   "cell_type": "code",
   "execution_count": null,
   "id": "d5aef0e6",
   "metadata": {
    "ExecuteTime": {
     "end_time": "2022-09-28T01:48:29.845177Z",
     "start_time": "2022-09-28T01:48:29.837236Z"
    },
    "pycharm": {
     "name": "#%%\n"
    }
   },
   "outputs": [],
   "source": [
    "quicklook?"
   ]
  },
  {
   "cell_type": "code",
   "execution_count": null,
   "id": "a64d33d6",
   "metadata": {
    "ExecuteTime": {
     "end_time": "2022-09-28T01:48:54.154235Z",
     "start_time": "2022-09-28T01:48:52.314607Z"
    },
    "pycharm": {
     "name": "#%%\n"
    }
   },
   "outputs": [],
   "source": [
    "values, metrics = quicklook(station, year, doy=doy, e1=5, e2=15, h1=2, h2=8, fr=2)"
   ]
  },
  {
   "cell_type": "markdown",
   "id": "cc20ec0d",
   "metadata": {
    "pycharm": {
     "name": "#%% md\n"
    }
   },
   "source": [
    "This shows us that we will not use L2 data in the analysis.\n",
    "\n",
    "Next, we'll look at the Glonass frequencies:101 (L1) and 102 (L2)"
   ]
  },
  {
   "cell_type": "code",
   "execution_count": null,
   "id": "8f3127d7",
   "metadata": {
    "ExecuteTime": {
     "end_time": "2022-09-28T01:53:10.238044Z",
     "start_time": "2022-09-28T01:53:08.486368Z"
    },
    "pycharm": {
     "name": "#%%\n"
    },
    "scrolled": true
   },
   "outputs": [],
   "source": [
    "values, metrics = quicklook(station, year, doy=doy, e1=5, e2=15, h1=2, h2=8, fr=101, screenstats=True)\n"
   ]
  },
  {
   "cell_type": "code",
   "execution_count": null,
   "id": "cb8830e0",
   "metadata": {
    "ExecuteTime": {
     "end_time": "2022-09-28T01:50:12.117407Z",
     "start_time": "2022-09-28T01:50:08.649208Z"
    },
    "pycharm": {
     "name": "#%%\n"
    },
    "scrolled": false
   },
   "outputs": [],
   "source": [
    "values, metrics = quicklook(station, year, doy=doy, e1=5, e2=15, h1=2, h2=8, fr=101)\n",
    "\n",
    "values, metrics = quicklook(station, year, doy=doy, e1=5, e2=15, h1=2, h2=8, fr=102)"
   ]
  },
  {
   "cell_type": "markdown",
   "id": "4bdffe22",
   "metadata": {
    "pycharm": {
     "name": "#%% md\n"
    }
   },
   "source": [
    "We're going exclude 135-225 degrees in azimuth as there is an empty region as well as a few poor retreivals."
   ]
  },
  {
   "cell_type": "markdown",
   "id": "e83562b2",
   "metadata": {
    "pycharm": {
     "name": "#%% md\n"
    }
   },
   "source": [
    "A windy day could cause bad retrievals.  For days with no wind, we would have large amplitudes - and for very windy days it could look like this:"
   ]
  },
  {
   "cell_type": "code",
   "execution_count": null,
   "id": "f6eb0bf6",
   "metadata": {
    "ExecuteTime": {
     "end_time": "2022-09-28T01:56:16.430034Z",
     "start_time": "2022-09-28T01:56:14.797611Z"
    },
    "pycharm": {
     "name": "#%%\n"
    }
   },
   "outputs": [],
   "source": [
    "year=2020\n",
    "doy=273 #sep 29\n",
    "\n",
    "rinex2snr(station=station, year=year, doy=doy, archive='nz')\n",
    "\n",
    "values, metrics = quicklook(station, year=year, doy=doy, e1=5, e2=15, h1=2, h2=8)"
   ]
  },
  {
   "cell_type": "markdown",
   "id": "96edef3f",
   "metadata": {
    "pycharm": {
     "name": "#%% md\n"
    }
   },
   "source": [
    "### Analyze the Data\n",
    "Here we'll set the values we discussed as variables and will pass them into the make json function."
   ]
  },
  {
   "cell_type": "code",
   "execution_count": null,
   "id": "cfc6783a",
   "metadata": {
    "ExecuteTime": {
     "end_time": "2022-09-28T01:57:30.783940Z",
     "start_time": "2022-09-28T01:57:30.762061Z"
    },
    "pycharm": {
     "name": "#%%\n"
    }
   },
   "outputs": [],
   "source": [
    "min_elevation_angle = 5\n",
    "max_elevation_angle = 15\n",
    "peak_to_noise = 3\n",
    "amplitude = 9\n",
    "min_height = 2\n",
    "max_height = 8\n",
    "make_json(station, lat, long, height, e1=min_elevation_angle, e2=max_elevation_angle,\n",
    "                       peak2noise=peak_to_noise, ampl=amplitude, h1=min_height, h2=max_height)\n",
    "\n",
    "# This is the json file that was created with the defaults/parameters you set above\n",
    "json_file = f'{refl_code_loc}/input/{station}.json'\n",
    "with open(json_file, \"r\") as myfile:\n",
    "    file = json.load(myfile)\n",
    "    \n",
    "file"
   ]
  },
  {
   "cell_type": "markdown",
   "id": "49b1e5ac",
   "metadata": {
    "pycharm": {
     "name": "#%% md\n"
    }
   },
   "source": [
    "The azimuth mask has to be set by hand again, and we will add the glonass signals (frequencies 101 and 102), and remove GPS L2 and L5 signals."
   ]
  },
  {
   "cell_type": "code",
   "execution_count": null,
   "id": "4301c4ab",
   "metadata": {
    "ExecuteTime": {
     "end_time": "2022-09-28T01:59:55.635433Z",
     "start_time": "2022-09-28T01:59:55.622925Z"
    },
    "pycharm": {
     "name": "#%%\n"
    }
   },
   "outputs": [],
   "source": [
    "# Now lets edit the json file\n",
    "with open(json_file, \"r\") as myfile:\n",
    "    file = json.load(myfile)\n",
    "    \n",
    "# Here is where we can 'hand edit' values in the json file\n",
    "# lets edit the azimuths. We set these values by looking at the metrics qc plot above\n",
    "file['azval'] = [0,90,90,135,225,270,270,360]\n",
    "file['freqs'] = [1, 101, 102]\n",
    "os.remove(json_file)\n",
    "\n",
    "with open(json_file, 'w') as f:\n",
    "    json.dump(file, f, indent=4)\n",
    "    \n",
    "# now lets view it again and note the difference\n",
    "with open(json_file, \"r\") as myfile:\n",
    "    file = json.load(myfile)\n",
    "\n",
    "file"
   ]
  },
  {
   "cell_type": "markdown",
   "id": "a24bac08",
   "metadata": {
    "pycharm": {
     "name": "#%% md\n"
    }
   },
   "source": [
    "Now we would run rinex2snr for about six months in 2020 and then run gnssir for the same dates."
   ]
  },
  {
   "cell_type": "code",
   "execution_count": null,
   "id": "2bad368c",
   "metadata": {
    "ExecuteTime": {
     "end_time": "2022-09-22T20:40:52.074048Z",
     "start_time": "2022-09-22T20:24:42.716115Z"
    },
    "pycharm": {
     "name": "#%%\n"
    }
   },
   "outputs": [],
   "source": [
    "# get snr (let's use GFZ orbits, which is multi-GNSS setting orb='gnss')\n",
    "rinex2snr(station, year, doy=130, doy_end=319, orb='gnss', archive='nz', weekly=weekly.value)"
   ]
  },
  {
   "cell_type": "markdown",
   "id": "08752fb0",
   "metadata": {
    "pycharm": {
     "name": "#%% md\n"
    }
   },
   "source": [
    "Now run gnssir:\n",
    "\n",
    "command line: <code>gnssir tgho 2020 130 -doy_end 319</code>"
   ]
  },
  {
   "cell_type": "code",
   "execution_count": null,
   "id": "616145f0",
   "metadata": {
    "ExecuteTime": {
     "end_time": "2022-09-27T13:29:48.528794Z",
     "start_time": "2022-09-27T13:27:24.833126Z"
    },
    "pycharm": {
     "name": "#%%\n"
    }
   },
   "outputs": [],
   "source": [
    "gnssir(station, year, doy=130, doy_end=319)"
   ]
  },
  {
   "cell_type": "markdown",
   "id": "274eb2be",
   "metadata": {
    "pycharm": {
     "name": "#%% md\n"
    }
   },
   "source": [
    "To look at daily averages, use the utility <code>daily_avg</code>. The median filter is set to allow values within 0.25 meters of the \n",
    "median, and the minimum number of tracks required to calculate the average we will set to 50 tracks. We can also set our own name for the daily average file."
   ]
  },
  {
   "cell_type": "code",
   "execution_count": null,
   "id": "18bdb8fc",
   "metadata": {
    "ExecuteTime": {
     "end_time": "2022-09-28T02:02:13.690649Z",
     "start_time": "2022-09-28T02:02:13.683823Z"
    },
    "pycharm": {
     "name": "#%%\n"
    }
   },
   "outputs": [],
   "source": [
    "daily_avg?"
   ]
  },
  {
   "cell_type": "code",
   "execution_count": null,
   "id": "a063dc4a",
   "metadata": {
    "ExecuteTime": {
     "end_time": "2022-09-28T02:03:03.925479Z",
     "start_time": "2022-09-28T02:03:02.166500Z"
    },
    "pycharm": {
     "name": "#%%\n"
    },
    "scrolled": false
   },
   "outputs": [],
   "source": [
    "daily_avg(station, medfilter=.25, ReqTracks=50,\n",
    "                       txtfile=f'{station}-dailyavg.txt')"
   ]
  },
  {
   "cell_type": "markdown",
   "id": "f6e9ad3e",
   "metadata": {
    "pycharm": {
     "name": "#%% md\n"
    }
   },
   "source": [
    "and now we can see the reflector heights for these 6 months in 2020.\n",
    "\n",
    "We'll note that there are quite a few data outages in this series, which means the RINEX files were missing from the NZ archive.\n",
    "\n",
    "Although Taupo is in a volcanic caldera, lake levels are determined by seasonal processes such \n",
    "as evaporation, precipitation, input from local drainages, and outflow. The Waikoto \n",
    "River is sole river draining the lake, and river flow is regulated by a series of hydroelectric dams."
   ]
  },
  {
   "cell_type": "code",
   "execution_count": null,
   "id": "5c503c7e",
   "metadata": {
    "pycharm": {
     "name": "#%%\n"
    }
   },
   "outputs": [],
   "source": []
  }
 ],
 "metadata": {
  "kernelspec": {
   "display_name": "gnssrefl_jupyter",
   "language": "python",
   "name": "gnssrefl_jupyter"
  },
  "language_info": {
   "codemirror_mode": {
    "name": "ipython",
    "version": 3
   },
   "file_extension": ".py",
   "mimetype": "text/x-python",
   "name": "python",
   "nbconvert_exporter": "python",
   "pygments_lexer": "ipython3",
   "version": "3.9.8"
  }
 },
 "nbformat": 4,
 "nbformat_minor": 5
}