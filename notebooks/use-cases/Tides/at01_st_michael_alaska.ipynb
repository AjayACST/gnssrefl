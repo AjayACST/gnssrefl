{
 "cells": [
  {
   "cell_type": "markdown",
   "id": "b7ff17fb",
   "metadata": {
    "pycharm": {
     "name": "#%% md\n"
    }
   },
   "source": [
    "### St Michael Bay\n",
    "\n",
    "**Station Name:**  at01\n",
    "\n",
    "**Location:**  St Michael, Alaska\n",
    "\n",
    "**Archive:**  [UNAVCO](http://www.unavco.org)\n",
    "\n",
    "**Ellipsoidal Coordinates:**\n",
    "\n",
    "- Latitude:  63.4840\n",
    "\n",
    "- Longitude: -162.0064\n",
    "\n",
    "- Height: 21.7 m\n",
    "\n",
    "[Station Page at UNAVCO](https://www.unavco.org/instrumentation/networks/status/nota/overview/AT01)\n",
    "\n",
    "[Station Page at Nevada Geodetic Laboratory](http://geodesy.unr.edu/NGLStationPages/stations/AT01.sta)\n",
    "\n",
    "[Google Map Link](https://goo.gl/maps/uWyoNFf4DRjYLmfUA)\n",
    "\n",
    "<p align=\"center\">\n",
    "<img src=\"https://www.unavco.org/data/gps-gnss/lib/images/station_images/AT01.jpg\" width=\"500\">\n",
    "</p>"
   ]
  },
  {
   "cell_type": "markdown",
   "id": "34f592ad",
   "metadata": {
    "pycharm": {
     "name": "#%% md\n"
    }
   },
   "source": [
    "## Data Summary\n",
    "\n",
    "at01 has good visibility over a large azimuthal region and the monument is about a meter taller than normal geodetic monuments which helps improve visibility of the sea surface. At01 observes all constellation signals.\n",
    "\n",
    "## Imports"
   ]
  },
  {
   "cell_type": "code",
   "execution_count": null,
   "id": "4d50e951",
   "metadata": {
    "ExecuteTime": {
     "end_time": "2022-09-27T00:48:09.729518Z",
     "start_time": "2022-09-27T00:48:06.275427Z"
    },
    "pycharm": {
     "name": "#%%\n"
    }
   },
   "outputs": [],
   "source": [
    "import json\n",
    "import os\n",
    "import sys\n",
    "\n",
    "import seaborn as sns;\n",
    "\n",
    "sns.set_theme(style=\"whitegrid\");\n",
    "\n",
    "# We are including our repository bin to the system path so that we can import the following python modules\n",
    "bin_path = os.path.abspath(os.path.join('../../../bin'))\n",
    "if bin_path not in sys.path:\n",
    "    sys.path.append(bin_path)\n",
    "\n",
    "import gnssrefl_helpers\n",
    "\n",
    "#Making sure environment variables are set - this is required to run the gnssrefl code\n",
    "exists = gnssrefl_helpers.check_environment()\n",
    "if exists == False:\n",
    "    gnssrefl_helpers.set_environment(refl_code=\"../../..\", orbits=\"../../../orbits\", exe=\"../../../bin/exe\")\n",
    "\n",
    "# Set local variable of refl_code location\n",
    "refl_code_loc = os.environ['REFL_CODE']\n",
    "\n",
    "# import gnssrefl functions\n",
    "from gnssrefl.rinex2snr_cl import rinex2snr\n",
    "from gnssrefl.quickLook_cl import quicklook\n",
    "from gnssrefl.make_json_input import make_json\n",
    "from gnssrefl.gnssir_cl import gnssir\n",
    "from gnssrefl.subdaily_cl import subdaily\n",
    "from gnssrefl.installexe_cl import installexe\n",
    "\n",
    "#@formatter:off\n",
    "%matplotlib inline"
   ]
  },
  {
   "cell_type": "code",
   "execution_count": null,
   "id": "25ba3eec",
   "metadata": {
    "pycharm": {
     "name": "#%%\n"
    }
   },
   "outputs": [],
   "source": [
    "# import the crx2rnx file which is dependant on your working OS - this is required to run the gnssrefl code\n",
    "# If in docker environment, then you do not need to download crxnrnx\n",
    "try:\n",
    "    os.environ['DOCKER']\n",
    "except KeyError:\n",
    "    sys = gnssrefl_helpers.get_sys()\n",
    "    installexe(sys)"
   ]
  },
  {
   "cell_type": "markdown",
   "id": "67b405da",
   "metadata": {
    "pycharm": {
     "name": "#%% md\n"
    }
   },
   "source": [
    "# reflecion zone app\n",
    "\n",
    "now we can use the reflection zone part of the web app:"
   ]
  },
  {
   "cell_type": "code",
   "execution_count": null,
   "id": "6df2e138",
   "metadata": {
    "ExecuteTime": {
     "end_time": "2022-09-21T00:20:28.271992Z",
     "start_time": "2022-09-21T00:20:28.264697Z"
    },
    "pycharm": {
     "name": "#%%\n"
    }
   },
   "outputs": [],
   "source": [
    "%%html\n",
    "<iframe src=\"https://gnss-reflections.org/geoid\" width=\"1000\" height=\"600\"></iframe>"
   ]
  },
  {
   "cell_type": "markdown",
   "id": "b5976063",
   "metadata": {
    "pycharm": {
     "name": "#%% md\n"
    }
   },
   "source": [
    "Next, we could look at the reflection zone app to pick a possible mask."
   ]
  },
  {
   "cell_type": "code",
   "execution_count": null,
   "id": "6c0f97e1",
   "metadata": {
    "ExecuteTime": {
     "end_time": "2022-09-21T00:20:28.281064Z",
     "start_time": "2022-09-21T00:20:28.274485Z"
    },
    "pycharm": {
     "name": "#%%\n"
    }
   },
   "outputs": [],
   "source": [
    "%%html\n",
    "<iframe src=\"https://gnss-reflections.org/rzones\" width=\"1000\" height=\"700\"></iframe>"
   ]
  },
  {
   "cell_type": "markdown",
   "id": "2fde898b",
   "metadata": {
    "pycharm": {
     "name": "#%% md\n"
    }
   },
   "source": [
    "Just looking at this can give us an idea of the possible azimuth mask - Guessing we will not get good retrievals in the northwest quadrant. We will confirm this with the qc plots when we use quicklook.\n",
    "\n",
    "It's also useful to note that it is about 12 meters above sea level."
   ]
  },
  {
   "cell_type": "markdown",
   "id": "63a2e510",
   "metadata": {
    "pycharm": {
     "name": "#%% md\n"
    }
   },
   "source": [
    "### Take a Quick Look at the Data\n",
    "First examine the spectral characteristics of the SNR data.\n",
    "\n",
    "First, we download a snr file using rinex2snr. We will pick a year and day - in this case we'll look at day of year 109 for the year 2020. "
   ]
  },
  {
   "cell_type": "code",
   "execution_count": null,
   "id": "87c5a5b9",
   "metadata": {
    "ExecuteTime": {
     "end_time": "2022-09-25T06:41:57.903615Z",
     "start_time": "2022-09-25T06:41:57.898547Z"
    },
    "pycharm": {
     "name": "#%%\n"
    }
   },
   "outputs": [],
   "source": [
    "# Download SNR \n",
    "# we are going to just pick a year and day\n",
    "# this will generate a SNR file at a sampling rate of 15 seconds.\n",
    "station = 'at01'\n",
    "year=2020\n",
    "doy=109\n",
    "\n",
    "rinex2snr(station=station, year=year, doy=doy, archive='unavco', orb='gnss')"
   ]
  },
  {
   "cell_type": "markdown",
   "id": "1c1ae3b1",
   "metadata": {
    "pycharm": {
     "name": "#%% md\n"
    }
   },
   "source": [
    "Now we can run quicklook, this is what it will look like if we don't change any of the defualts:"
   ]
  },
  {
   "cell_type": "code",
   "execution_count": null,
   "id": "93d95858",
   "metadata": {
    "ExecuteTime": {
     "end_time": "2022-09-25T06:46:29.046069Z",
     "start_time": "2022-09-25T06:46:25.357002Z"
    },
    "pycharm": {
     "name": "#%%\n"
    }
   },
   "outputs": [],
   "source": [
    "values, metrics = quicklook(station, year, doy=doy)"
   ]
  },
  {
   "cell_type": "markdown",
   "id": "8db56a50",
   "metadata": {
    "pycharm": {
     "name": "#%% md\n"
    }
   },
   "source": [
    "Using the default settings with quicklook we would likely think it is not a useful site, as nearly every retrieval is set as bad.\n",
    "\n",
    "Let's see what the defaults are set to by adding a question mark to the function and running that cell."
   ]
  },
  {
   "cell_type": "code",
   "execution_count": null,
   "id": "65f4f88f",
   "metadata": {
    "ExecuteTime": {
     "end_time": "2022-09-27T00:48:14.872412Z",
     "start_time": "2022-09-27T00:48:14.764833Z"
    },
    "pycharm": {
     "name": "#%%\n"
    }
   },
   "outputs": [],
   "source": [
    "quicklook?"
   ]
  },
  {
   "cell_type": "markdown",
   "id": "cc86efe8",
   "metadata": {
    "pycharm": {
     "name": "#%% md\n"
    }
   },
   "source": [
    "Now we can see what the defaults are and information about the parameters in the doc string as well. \n",
    "\n",
    "So, remembering that the site is 12 meters above sea level and we can see that the default restricts the reflector height region to 0.5 to 6 meters. \n",
    "\n",
    "Let's try quicklook again using a reflector height region that includes the water surface. We'll set h1 to 8 and h2 to 15 and we're also going to change the elevation angles to 5 and 13 degrees:"
   ]
  },
  {
   "cell_type": "code",
   "execution_count": null,
   "id": "7a38cd5b",
   "metadata": {
    "ExecuteTime": {
     "end_time": "2022-09-25T06:50:32.170589Z",
     "start_time": "2022-09-25T06:50:28.553026Z"
    },
    "pycharm": {
     "name": "#%%\n"
    }
   },
   "outputs": [],
   "source": [
    "values, metrics = quicklook(station, year, doy=doy,\n",
    "                                         e1=5, e2=13, h1=8, h2=15)"
   ]
  },
  {
   "cell_type": "markdown",
   "id": "12426101",
   "metadata": {
    "pycharm": {
     "name": "#%% md\n"
    }
   },
   "source": [
    "Now we see good retrievals at azimuths from true north to about 220 degrees (around what we expected from using the reflection zone app) and we also see strong retrievals in the Lomb Scargle periodograms.\n",
    "\n",
    "This site does have modern GPS signals, as well as Galileo and Glonass signals."
   ]
  },
  {
   "cell_type": "markdown",
   "id": "4a077059",
   "metadata": {
    "pycharm": {
     "name": "#%% md\n"
    }
   },
   "source": [
    "results for L2C:"
   ]
  },
  {
   "cell_type": "code",
   "execution_count": null,
   "id": "7b27035b",
   "metadata": {
    "ExecuteTime": {
     "end_time": "2022-09-25T06:54:55.051642Z",
     "start_time": "2022-09-25T06:54:51.971544Z"
    },
    "pycharm": {
     "name": "#%%\n"
    }
   },
   "outputs": [],
   "source": [
    "values, metrics = quicklook(station, year, doy=doy, \n",
    "                                         e1=5, e2=13, h1=8, h2=15, fr=20)"
   ]
  },
  {
   "cell_type": "markdown",
   "id": "e361d5ab",
   "metadata": {
    "pycharm": {
     "name": "#%% md\n"
    }
   },
   "source": [
    "Now we can look at glonass by setting fr to 101 and Galileo we will set f to 205."
   ]
  },
  {
   "cell_type": "code",
   "execution_count": null,
   "id": "1104f44c",
   "metadata": {
    "ExecuteTime": {
     "end_time": "2022-09-25T06:56:25.983538Z",
     "start_time": "2022-09-25T06:56:22.942177Z"
    },
    "pycharm": {
     "name": "#%%\n"
    }
   },
   "outputs": [],
   "source": [
    "values_l1, metrics_l1 = quicklook(station, year, doy=doy,\n",
    "                                         e1=5, e2=13, h1=8, h2=15, fr=101)"
   ]
  },
  {
   "cell_type": "code",
   "execution_count": null,
   "id": "901c9313",
   "metadata": {
    "ExecuteTime": {
     "end_time": "2022-09-25T06:56:33.957011Z",
     "start_time": "2022-09-25T06:56:30.297095Z"
    },
    "pycharm": {
     "name": "#%%\n"
    }
   },
   "outputs": [],
   "source": [
    "values_l2, metrics_l2 = quicklook(station, year, doy=doy,\n",
    "                                         e1=5, e2=13, h1=8, h2=15, fr=205)"
   ]
  },
  {
   "cell_type": "markdown",
   "id": "37f8eac1",
   "metadata": {
    "pycharm": {
     "name": "#%% md\n"
    }
   },
   "source": [
    "### Analyze the Data\n",
    "\n",
    "Next we will analyze data for a few weeks in the fall of 2020. Our first step would be to make the SNR files."
   ]
  },
  {
   "cell_type": "code",
   "execution_count": null,
   "id": "cd636f68",
   "metadata": {
    "ExecuteTime": {
     "end_time": "2022-09-21T00:22:50.317313Z",
     "start_time": "2022-09-21T00:22:50.310496Z"
    },
    "pycharm": {
     "name": "#%%\n"
    }
   },
   "outputs": [],
   "source": [
    "rinex2snr?"
   ]
  },
  {
   "cell_type": "code",
   "execution_count": null,
   "id": "7fcd6ff3",
   "metadata": {
    "ExecuteTime": {
     "end_time": "2022-09-22T18:57:53.328110Z",
     "start_time": "2022-09-22T18:57:53.316729Z"
    },
    "pycharm": {
     "name": "#%%\n"
    }
   },
   "outputs": [],
   "source": [
    "rinex2snr(station, year, 230, doy_end=251, archive='unavco', orb='gnss')"
   ]
  },
  {
   "cell_type": "markdown",
   "id": "1238a40e",
   "metadata": {
    "pycharm": {
     "name": "#%% md\n"
    }
   },
   "source": [
    "The next step is to create the json file that gnssir reads with the values that we have decided on from the quicklook step. In this case we will set the elevation angles and the heights. We will also set the parameter allfreq to true."
   ]
  },
  {
   "cell_type": "code",
   "execution_count": null,
   "id": "c1ee517a",
   "metadata": {
    "ExecuteTime": {
     "end_time": "2022-09-25T06:57:40.078386Z",
     "start_time": "2022-09-25T06:57:40.066060Z"
    },
    "pycharm": {
     "name": "#%%\n"
    }
   },
   "outputs": [],
   "source": [
    "lat = 63.484\n",
    "long = -162.006\n",
    "height = 21.565\n",
    "\n",
    "make_json(station, lat, long, height, e1=5, e2=13, h1=8, h2=15, allfreq=True)"
   ]
  },
  {
   "cell_type": "code",
   "execution_count": null,
   "id": "aea19446",
   "metadata": {
    "ExecuteTime": {
     "end_time": "2022-09-25T06:58:08.540849Z",
     "start_time": "2022-09-25T06:58:08.533780Z"
    },
    "pycharm": {
     "name": "#%%\n"
    }
   },
   "outputs": [],
   "source": [
    "# This is the json file that was created with the defaults/parameters you set above\n",
    "json_file = f'{refl_code_loc}/input/{station}.json'\n",
    "with open(json_file, \"r\") as myfile:\n",
    "    file = json.load(myfile)\n",
    "    \n",
    "file"
   ]
  },
  {
   "cell_type": "markdown",
   "id": "c4827269",
   "metadata": {
    "pycharm": {
     "name": "#%% md\n"
    }
   },
   "source": [
    "To set the azimuth range that we decided on, we need to edit the json file manually. We are also going to edit out the Beidou signals since they are not in rinex2 files."
   ]
  },
  {
   "cell_type": "code",
   "execution_count": null,
   "id": "39abd307",
   "metadata": {
    "ExecuteTime": {
     "end_time": "2022-09-25T06:59:52.400349Z",
     "start_time": "2022-09-25T06:59:52.379470Z"
    },
    "pycharm": {
     "name": "#%%\n"
    }
   },
   "outputs": [],
   "source": [
    "# Now lets edit the json file\n",
    "with open(json_file, \"r\") as myfile:\n",
    "    file = json.load(myfile)\n",
    "    \n",
    "# Here is where we can 'hand edit' values in the json file\n",
    "# lets edit the azimuths. We set these values by looking at the metrics qc plot above\n",
    "file['azval'] = [20,90,90,180,180,220]\n",
    "file['freqs'] = [1,20,5,101,102,201,205,206,207]\n",
    "os.remove(json_file)\n",
    "\n",
    "with open(json_file, 'w') as f:\n",
    "    json.dump(file, f, indent=4)\n",
    "    \n",
    "# now lets view it again and note the difference\n",
    "with open(json_file, \"r\") as myfile:\n",
    "    file = json.load(myfile)\n",
    "\n",
    "file"
   ]
  },
  {
   "cell_type": "markdown",
   "id": "f55cfac4",
   "metadata": {
    "pycharm": {
     "name": "#%% md\n"
    }
   },
   "source": [
    "Next, we will run gnssir to estimate the reflector height (RH) for the two month time period."
   ]
  },
  {
   "cell_type": "code",
   "execution_count": null,
   "id": "ff99324b",
   "metadata": {
    "ExecuteTime": {
     "end_time": "2022-09-25T07:02:55.966690Z",
     "start_time": "2022-09-25T06:59:58.707065Z"
    },
    "pycharm": {
     "name": "#%%\n"
    }
   },
   "outputs": [],
   "source": [
    "year = 2020\n",
    "doy = 230\n",
    "doy_end = 251\n",
    "gnssir(station, year, doy, doy_end=doy_end, screenstats=False)"
   ]
  },
  {
   "cell_type": "markdown",
   "id": "5f1e4531",
   "metadata": {
    "pycharm": {
     "name": "#%% md\n"
    }
   },
   "source": [
    "We have do have some code to help you look at subdaily files. This will be helpful to look at tides. \n",
    "\n",
    "We will set an outlier criteria of 0.36 meters (one sigma 0.12 meters ==> 0.36 meters three sigma) to start with.\n",
    "\n",
    "This preliminary version of the code removes outliers and makes an effort to compute the RH dot correction."
   ]
  },
  {
   "cell_type": "code",
   "execution_count": null,
   "id": "4e4fddeb",
   "metadata": {
    "ExecuteTime": {
     "end_time": "2022-09-25T07:09:23.518562Z",
     "start_time": "2022-09-25T07:09:20.033729Z"
    },
    "pycharm": {
     "name": "#%%\n"
    },
    "scrolled": false
   },
   "outputs": [],
   "source": [
    "subdaily(station='at01', year=2020, doy1=230, doy2=251, plt=True)"
   ]
  }
 ],
 "metadata": {
  "kernelspec": {
   "display_name": "gnssrefl_jupyter",
   "language": "python",
   "name": "gnssrefl_jupyter"
  },
  "language_info": {
   "codemirror_mode": {
    "name": "ipython",
    "version": 3
   },
   "file_extension": ".py",
   "mimetype": "text/x-python",
   "name": "python",
   "nbconvert_exporter": "python",
   "pygments_lexer": "ipython3",
   "version": "3.9.8"
  }
 },
 "nbformat": 4,
 "nbformat_minor": 5
}