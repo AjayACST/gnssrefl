{
 "cells": [
  {
   "cell_type": "markdown",
   "metadata": {
    "pycharm": {
     "name": "#%% md\n"
    }
   },
   "source": [
    "# 2023 GNSS-IR Short Course\n"
   ]
  },
  {
   "cell_type": "markdown",
   "metadata": {
    "pycharm": {
     "name": "#%% md\n"
    }
   },
   "source": [
    "## Pre-course Activities\n",
    "\n",
    "While it is possible to simply listen to the lecturers in the short course, we think that this is a far better learning experience if you are able to follow along with the examples. And for this we recommend the following:"
   ]
  },
  {
   "cell_type": "markdown",
   "metadata": {
    "pycharm": {
     "name": "#%% md\n"
    }
   },
   "source": [
    "If you have not done so already, please [Sign up for an EarthScope account](https://data-idm.unavco.org/user/profile/login)\n",
    "\n",
    "\n",
    "In Jupyter Notebooks we always start with imports."
   ]
  },
  {
   "cell_type": "code",
   "execution_count": null,
   "metadata": {
    "pycharm": {
     "name": "#%%\n"
    }
   },
   "outputs": [],
   "source": [
    "import os\n",
    "from pathlib import Path\n",
    "import sys\n",
    "\n",
    "from gnssrefl.utils import check_environment, set_environment, get_sys"
   ]
  },
  {
   "cell_type": "markdown",
   "metadata": {
    "pycharm": {
     "name": "#%% md\n"
    }
   },
   "source": [
    "If you are using the docker, the environment variables required will already be set for you. If you are not using the docker, the following cell will set them for you."
   ]
  },
  {
   "cell_type": "code",
   "execution_count": null,
   "metadata": {
    "pycharm": {
     "name": "#%%\n"
    }
   },
   "outputs": [],
   "source": [
    "# Making sure environment variables are set - this is required to run the gnssrefl code\n",
    "\n",
    "exists = check_environment()\n",
    "if exists == False:\n",
    "    #If you are running this locally - make sure the items in the exe folder have execution permissions\n",
    "    set_environment(refl_code=str(Path),\n",
    "                                     orbits=str(Path.cwd().parents[0] / \"orbits\"),\n",
    "                                     exe=str(Path.cwd().parents[0] / \"bin\" / \"exe\"))\n",
    "\n",
    "# Set local variable of refl_code location\n",
    "refl_code_loc = os.environ['REFL_CODE']"
   ]
  },
  {
   "cell_type": "markdown",
   "metadata": {
    "pycharm": {
     "name": "#%% md\n"
    }
   },
   "source": [
    "We will use the following libraries from gnssrefl for this activity:"
   ]
  },
  {
   "cell_type": "code",
   "execution_count": null,
   "metadata": {
    "pycharm": {
     "name": "#%%\n"
    }
   },
   "outputs": [],
   "source": [
    "from gnssrefl.installexe_cl import installexe\n",
    "from gnssrefl.rinex2snr_cl import rinex2snr\n",
    "from gnssrefl.quickLook_cl import quicklook"
   ]
  },
  {
   "cell_type": "markdown",
   "metadata": {
    "pycharm": {
     "name": "#%% md\n"
    }
   },
   "source": [
    "Now we will download the executables necessary. If you are in the docker, this is not necessary as it has been done for you already."
   ]
  },
  {
   "cell_type": "code",
   "execution_count": null,
   "metadata": {
    "pycharm": {
     "name": "#%%\n"
    }
   },
   "outputs": [],
   "source": [
    "# Download the executablines\n",
    "try:\n",
    "    os.environ['DOCKER']\n",
    "except KeyError:\n",
    "    sys = get_sys()\n",
    "    installexe(sys)"
   ]
  },
  {
   "cell_type": "markdown",
   "metadata": {
    "pycharm": {
     "name": "#%% md\n"
    }
   },
   "source": [
    "### Run the Code\n",
    "\n",
    "**Translate a Single GNSS File**\n",
    "\n",
    "We are going to translate a file from the EarthScope archive. This will require having an account with EarthScope.The output will print out a URL you will need to verify your acccount. You will be able to click on the link or copy it to any preferred browser and complete the verification. You will notice an sso_token.json file saved in this directory. As long as this remains in your running directory you will not need to do this process again."
   ]
  },
  {
   "cell_type": "code",
   "execution_count": null,
   "metadata": {
    "pycharm": {
     "name": "#%%\n"
    }
   },
   "outputs": [],
   "source": [
    "rinex2snr(station='p038', year=2022, doy=90, orb='rapid', archive='unavco', overwrite=True)"
   ]
  },
  {
   "cell_type": "markdown",
   "metadata": {
    "pycharm": {
     "name": "#%% md\n"
    }
   },
   "source": [
    "The final output should look like this:\n",
    "\n",
    "SUCCESS: SNR file was created: .../gnssrefl_jupyter/2022/snr/p038/p0380900.22.snr66"
   ]
  },
  {
   "cell_type": "markdown",
   "metadata": {
    "pycharm": {
     "name": "#%% md\n"
    }
   },
   "source": [
    "This file was created using:\n",
    "\n",
    "* a rapid GNSS orbi att GFZ\n",
    "* GNSS data from eartthscope\n",
    "\n",
    "If we knew we only wanted to look at GPS signals, we could have typed:\n",
    "\n",
    "(note we would add `overwrite=True` to overwrite the previous file since it will not download if the file already exists. The following is just showing the command, we do not need to donwload the file again for this example)"
   ]
  },
  {
   "cell_type": "code",
   "execution_count": null,
   "metadata": {
    "pycharm": {
     "name": "#%%\n"
    }
   },
   "outputs": [],
   "source": [
    "rinex2snr(station='p038', year=2022, doy=90)"
   ]
  },
  {
   "cell_type": "markdown",
   "metadata": {
    "pycharm": {
     "name": "#%% md\n"
    }
   },
   "source": [
    "**Next Step: Look at the reflection data for a single GNSS station**"
   ]
  },
  {
   "cell_type": "markdown",
   "metadata": {
    "pycharm": {
     "name": "#%% md\n"
    }
   },
   "source": [
    "`quickLook` is a module for assesing the reflections data from GNSS-IR site. We will start by using the simplest request, which evaluates L1 GPS data using a standard azimuth/elevation angle mask (i.e. all azimuths and elevation angles from 5-25 degrees:\n"
   ]
  },
  {
   "cell_type": "code",
   "execution_count": null,
   "metadata": {
    "pycharm": {
     "name": "#%%\n"
    }
   },
   "outputs": [],
   "source": [
    "metrics, values = quicklook(station='p038', year=2022, doy=90)"
   ]
  },
  {
   "cell_type": "markdown",
   "metadata": {
    "pycharm": {
     "name": "#%% md\n"
    }
   },
   "source": [
    "If you are able to download and translate a GNSS file and run `quickLook`, you are doing great. While we mostly used the defaults, we want to emphasize that there are options to both of these codes.\n",
    "\n",
    "*[rinex2snr](https://gnssrefl.readthedocs.io/en/latest/api/gnssrefl.rinex2snr_cl.html)\n",
    "\n",
    "*[quickLook](https://gnssrefl.readthedocs.io/en/latest/api/gnssrefl.quickLook_cl.html)\n",
    "\n",
    "You can also see parameter options by typing `rinex2snr?` or `quickLook?` in a cell.\n"
   ]
  },
  {
   "cell_type": "code",
   "execution_count": null,
   "metadata": {
    "pycharm": {
     "name": "#%%\n"
    }
   },
   "outputs": [],
   "source": [
    "rinex2snr?"
   ]
  },
  {
   "cell_type": "code",
   "execution_count": null,
   "metadata": {
    "pycharm": {
     "name": "#%%\n"
    }
   },
   "outputs": [],
   "source": [
    "quickLook?"
   ]
  },
  {
   "cell_type": "markdown",
   "metadata": {
    "pycharm": {
     "name": "#%% md\n"
    }
   },
   "source": [
    "### Understanding what the GNSS-IR Output is telling you."
   ]
  },
  {
   "cell_type": "markdown",
   "metadata": {
    "pycharm": {
     "name": "#%% md\n"
    }
   },
   "source": [
    "You should read [the overview documentations](https://gnssrefl.readthedocs.io/en/latest/pages/understand.html)\n",
    "\n",
    "You should also read the [quickLook documentation](https://gnssrefl.readthedocs.io/en/latest/pages/quickLook.html)"
   ]
  },
  {
   "cell_type": "markdown",
   "metadata": {
    "pycharm": {
     "name": "#%% md\n"
    }
   },
   "source": [
    "What do we mean when we say “reflector height”? You need to know that before the next section.\n",
    "\n",
    "What happens when you change the inputs to quickLook? (h1, h2, e1, e2). Try using different frequencies.\n",
    "\n",
    "Since we used the rapid multi-GNSS orbit from GFZ, we have access to GPS, Glonass, and Galileo signals. [You can check here to remind yourself how the frequencies are named in this software](https://gnssrefl.readthedocs.io/en/latest/pages/file_structure.html)\n",
    "\n",
    "You can use the below cell to play with the rinex and quickLook functions."
   ]
  },
  {
   "cell_type": "code",
   "execution_count": null,
   "metadata": {
    "pycharm": {
     "name": "#%%\n"
    }
   },
   "outputs": [],
   "source": [
    "# you can try anyting you want here\n",
    "\n",
    "metrics, values = quicklook(station=, year=, doy=, )"
   ]
  },
  {
   "cell_type": "markdown",
   "metadata": {
    "pycharm": {
     "name": "#%% md\n"
    }
   },
   "source": [
    "### What is a Reflection Zone\n",
    "\n",
    "[Watch this video](https://www.youtube.com/watch?v=sygZMeCHHDg&amp;t=23s)\n",
    "\n",
    "**First example: ross**"
   ]
  },
  {
   "cell_type": "markdown",
   "metadata": {
    "pycharm": {
     "name": "#%% md\n"
    }
   },
   "source": [
    "Use the [refl_zones](https://gnss-reflections.org/rzones) web site to try and pick reflection zones for station [ross](https://gnss-reflections.org/geoid?station=ross) that was used in the introduction section. The web app tells you the mean sea level for this site. But that is not the reflector height you want to use for the reflection zone. What value should you use? Try a few different values.\n",
    "\n",
    "Below is a cell that will open the web app in the output of this cell. You can also open it in a new tab by clicking on the link above."
   ]
  },
  {
   "cell_type": "code",
   "execution_count": null,
   "metadata": {
    "pycharm": {
     "name": "#%%\n"
    }
   },
   "outputs": [],
   "source": [
    "%%html\n",
    "<iframe src=\"https://gnss-reflections.org/rzones?\" width=\"1000\" height=\"600\"></iframe>"
   ]
  },
  {
   "cell_type": "markdown",
   "metadata": {
    "pycharm": {
     "name": "#%% md\n"
    }
   },
   "source": [
    "Now translate a GNSS file to see if you made a good choice."
   ]
  },
  {
   "cell_type": "code",
   "execution_count": null,
   "metadata": {
    "pycharm": {
     "name": "#%%\n"
    }
   },
   "outputs": [],
   "source": [
    "rinex2snr(station='ross', year=2020, doy=211, archive='sopac')"
   ]
  },
  {
   "cell_type": "markdown",
   "metadata": {
    "pycharm": {
     "name": "#%% md\n"
    }
   },
   "source": [
    "Then run quicklook:"
   ]
  },
  {
   "cell_type": "code",
   "execution_count": null,
   "metadata": {
    "pycharm": {
     "name": "#%%\n"
    }
   },
   "outputs": [],
   "source": [
    "metrics, values = quicklook(station='ross', year=2020, doy=211)"
   ]
  },
  {
   "cell_type": "markdown",
   "metadata": {
    "pycharm": {
     "name": "#%% md\n"
    }
   },
   "source": [
    "What is the RH associated with the lake? Do the good azimuths in the periodogram summary agree with the google map image? (note: google earth is now using an image from winter, so it is quite challenging to see what is going on - so you might look back at the [earlier discussion](https://gnssrefl.readthedocs.io/en/latest/pages/understand.html).\n",
    "\n",
    "\n",
    "Change the frequency on the command line to L2 (fr=2). Note how the periodogram plots have two peaks instead of one. This is a problem!\n",
    "\n"
   ]
  },
  {
   "cell_type": "code",
   "execution_count": null,
   "metadata": {
    "pycharm": {
     "name": "#%%\n"
    }
   },
   "outputs": [],
   "source": [
    "metrics, values = quicklook(station='ross', year=2020, doy=211, fr=2)"
   ]
  },
  {
   "cell_type": "markdown",
   "metadata": {
    "pycharm": {
     "name": "#%% md\n"
    }
   },
   "source": []
  },
  {
   "cell_type": "markdown",
   "metadata": {
    "pycharm": {
     "name": "#%% md\n"
    }
   },
   "source": [
    "Now try to look at the Glonass data. You need multi-GNSS orbits. What comes back?"
   ]
  },
  {
   "cell_type": "code",
   "execution_count": null,
   "metadata": {
    "pycharm": {
     "name": "#%%\n"
    }
   },
   "outputs": [],
   "source": [
    "rinex2snr(station='ross', year=2020, doy=211, archive='sopac', orb='gnss', overwrite=True)"
   ]
  },
  {
   "cell_type": "code",
   "execution_count": null,
   "metadata": {
    "pycharm": {
     "name": "#%%\n"
    }
   },
   "outputs": [],
   "source": [
    "metrics, values = quicklook(station='ross', year=2020, doy=211, fr=101)"
   ]
  },
  {
   "cell_type": "markdown",
   "metadata": {
    "pycharm": {
     "name": "#%% md\n"
    }
   },
   "source": [
    "**Second example: sc02**\n",
    "\n",
    "Try to pick reflection zones for station [sc02](http://gnss-reflections.org/rzones?station=sc02). Is it reasonable to use the mean sea level RH option in [https://gnss-reflections.org/rzones](https://gnss-reflections.org/rzones) for this station? Which azimuths and elevation angles look best to you?\n",
    "\n",
    "If you use the refl_zones module in gnssrefl, you can make a KML file that can be read directly into Google Earth. This way will let you pick the satellite image."
   ]
  },
  {
   "cell_type": "code",
   "execution_count": null,
   "metadata": {
    "pycharm": {
     "name": "#%%\n"
    }
   },
   "outputs": [],
   "source": [
    "%%html\n",
    "<iframe src=\"http://gnss-reflections.org/rzones?station=sc02\" width=\"1000\" height=\"600\"></iframe>"
   ]
  },
  {
   "cell_type": "code",
   "execution_count": null,
   "metadata": {
    "pycharm": {
     "name": "#%%\n"
    }
   },
   "outputs": [],
   "source": [
    "%%html\n",
    "<iframe src=\"https://gnss-reflections.org/rzones\" width=\"1000\" height=\"600\"></iframe>"
   ]
  },
  {
   "cell_type": "markdown",
   "metadata": {
    "pycharm": {
     "name": "#%% md\n"
    }
   },
   "source": [
    "## Additional Assignments"
   ]
  },
  {
   "cell_type": "markdown",
   "metadata": {
    "pycharm": {
     "name": "#%% md\n"
    }
   },
   "source": [
    "We have some students who are taking this virtual course for university credit. And others might be interested to get an early start with the software. If you are in either of these categories, please work on one or more use cases:"
   ]
  },
  {
   "cell_type": "markdown",
   "metadata": {
    "pycharm": {
     "name": "#%% md\n"
    }
   },
   "source": [
    "The main module for estimating reflector height is called [gnssir](https://gnssrefl.readthedocs.io/en/latest/pages/gnssir.html). Try out one of our examples. These can be found in the notebooks/use-cases folder located where this notebook is.\n",
    "\n",
    "You can modify any of those notebooks or look [here](https://gnssrefl.readthedocs.io/en/latest/pages/first_drivethru.html) for a more complete set of examples and follow along by creating a new notebook."
   ]
  },
  {
   "cell_type": "markdown",
   "metadata": {
    "pycharm": {
     "name": "#%% md\n"
    }
   },
   "source": [
    "If you are primarily interested in water levels, you should start with a lake. We are covering TGHO in class, so choose other sites.\n",
    "\n",
    "If you are primarily interested in snow accumulation, you should start with an ice sheet.\n",
    "We are covering LTHW (and possibly GLS1) in class, so choose other sites.\n",
    "\n",
    "For students primarily interested in soil moisture, we recommend that you do a snow depth case. This will help you understand better how the soil moisture code works.\n"
   ]
  },
  {
   "cell_type": "code",
   "execution_count": null,
   "metadata": {
    "pycharm": {
     "name": "#%%\n"
    }
   },
   "outputs": [],
   "source": []
  }
 ],
 "metadata": {
  "kernelspec": {
   "display_name": "venv",
   "language": "python",
   "name": "venv"
  },
  "language_info": {
   "codemirror_mode": {
    "name": "ipython",
    "version": 3
   },
   "file_extension": ".py",
   "mimetype": "text/x-python",
   "name": "python",
   "nbconvert_exporter": "python",
   "pygments_lexer": "ipython3",
   "version": "3.9.16"
  }
 },
 "nbformat": 4,
 "nbformat_minor": 4
}
