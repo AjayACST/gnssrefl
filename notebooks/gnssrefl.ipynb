{
 "cells": [
  {
   "cell_type": "code",
   "id": "e7e807b7-b95d-4a97-971f-679cd98e02ac",
   "metadata": {},
   "source": [
    "import os\n",
    "\n",
    "from gnssrefl.utils import check_environment, set_environment, get_sys\n",
    "from pathlib import Path\n",
    "\n",
    "# Making sure environment variables are set - this is required to run the gnssrefl code\n",
    "notebook_dir = Path.cwd().parents[0]\n",
    "\n",
    "exists = check_environment()\n",
    "if exists == False:\n",
    "    #If you are running this locally - make sure the items in the exe folder have execution permissions\n",
    "    set_environment(refl_code=str(notebook_dir),\n",
    "                    orbits=str(notebook_dir / \"orbits\"),\n",
    "                    exe=str(notebook_dir / \"exe\"))\n",
    "\n",
    "# Set local variable of refl_code location\n",
    "refl_code_loc = os.environ['REFL_CODE']\n",
    "print(\"refl_code location:\", refl_code_loc)\n",
    "\n",
    "# import gnssrefl functions\n",
    "from gnssrefl.rinex2snr_cl import rinex2snr\n",
    "from gnssrefl.nmea2snr_cl import nmea2snr\n",
    "from gnssrefl.quickLook_cl import quicklook\n",
    "from gnssrefl.installexe_cl import installexe\n",
    "from gnssrefl.gnssir_cl import gnssir\n",
    "from gnssrefl.daily_avg_cl import daily_avg\n",
    "from gnssrefl.vwc_cl import vwc\n",
    "\n",
    "%matplotlib inline"
   ],
   "outputs": [],
   "execution_count": null
  },
  {
   "cell_type": "code",
   "id": "b046190c-1e26-423f-8359-b247039fb40c",
   "metadata": {},
   "source": [
    "# import the crx2rnx file which is dependent on your working OS - this is required to run the gnssrefl code\n",
    "try:\n",
    "    os.environ['DOCKER']\n",
    "except KeyError:\n",
    "    sys = get_sys()\n",
    "    installexe(sys)"
   ],
   "outputs": [],
   "execution_count": null
  },
  {
   "cell_type": "code",
   "id": "fdb85249-311f-4f12-b7dc-511ae3905971",
   "metadata": {},
   "source": [
    "nmea2snr?"
   ],
   "outputs": [],
   "execution_count": null
  },
  {
   "cell_type": "code",
   "id": "0ac0dc7b-c215-4ccb-9a4e-fa96e563cf79",
   "metadata": {},
   "source": [
    "station = 'fiel'\n",
    "year = 2025\n",
    "doy=140\n",
    "doy_end=145\n",
    "\n",
    "# nmea2snr(station, year, doy, doy_end=doy_end, lat=-44.71658583, lon=169.17848417, height=4.5)"
   ],
   "outputs": [],
   "execution_count": null
  },
  {
   "cell_type": "code",
   "id": "4d7a2235-be85-4851-8d38-323136eb765c",
   "metadata": {},
   "source": [
    "quicklook?"
   ],
   "outputs": [],
   "execution_count": null
  },
  {
   "cell_type": "code",
   "id": "1a775323-90b8-47c1-aaca-3ff93cc6c67d",
   "metadata": {},
   "source": [
    "values, metrics = quicklook(station, year, doy=140, plt=True)"
   ],
   "outputs": [],
   "execution_count": null
  },
  {
   "cell_type": "code",
   "id": "959a5211-178a-4c06-a2b9-e16f8bee254a",
   "metadata": {},
   "source": [
    "gnssir?"
   ],
   "outputs": [],
   "execution_count": null
  },
  {
   "cell_type": "code",
   "id": "bbc86b86-faf5-486f-86f7-3596581b3b0d",
   "metadata": {},
   "source": [
    "gnssir(station, year, doy, doy_end=doy_end, plt=True)"
   ],
   "outputs": [],
   "execution_count": null
  },
  {
   "cell_type": "code",
   "id": "59c21930-3c75-4397-a42f-6c49a3c9dc96",
   "metadata": {},
   "source": [
    "daily_avg?"
   ],
   "outputs": [],
   "execution_count": null
  },
  {
   "cell_type": "code",
   "id": "584745c2-adc2-48b3-891e-0372f481ea85",
   "metadata": {},
   "source": [
    "daily_avg('fiel', 0.25, 10)"
   ],
   "outputs": [],
   "execution_count": null
  },
  {
   "cell_type": "code",
   "id": "c03642c8-da04-454a-874f-599fa2c4d5d8",
   "metadata": {},
   "source": [
    "vwc?"
   ],
   "outputs": [],
   "execution_count": null
  },
  {
   "cell_type": "code",
   "id": "4e53ef8c-43fd-42be-8e49-53f7b3b04b2f",
   "metadata": {},
   "source": [
    "vwc('fiel', 2025)"
   ],
   "outputs": [],
   "execution_count": null
  }
 ],
 "metadata": {
  "kernelspec": {
   "display_name": "Python 3 (ipykernel)",
   "language": "python",
   "name": "python3"
  },
  "language_info": {
   "codemirror_mode": {
    "name": "ipython",
    "version": 3
   },
   "file_extension": ".py",
   "mimetype": "text/x-python",
   "name": "python",
   "nbconvert_exporter": "python",
   "pygments_lexer": "ipython3",
   "version": "3.10.12"
  }
 },
 "nbformat": 4,
 "nbformat_minor": 5
}
