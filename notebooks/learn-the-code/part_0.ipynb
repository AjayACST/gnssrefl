{
 "cells": [
  {
   "cell_type": "code",
   "execution_count": 4,
   "id": "1f88ea6d",
   "metadata": {
    "pycharm": {
     "name": "#%%\n"
    }
   },
   "outputs": [
    {
     "name": "stdout",
     "output_type": "stream",
     "text": [
      "environment variable ORBITS set to path /Users/enloe/UNAVCO_Projects/git/gnssrefl_jupyter/orbits \n",
      "environment variable REFL_CODE set to path /Users/enloe/UNAVCO_Projects/git/gnssrefl_jupyter \n",
      "environment variable EXE set to path /Users/enloe/UNAVCO_Projects/git/gnssrefl_jupyter/bin/exe\n"
     ]
    }
   ],
   "source": [
    "import os\n",
    "import sys\n",
    "from pathlib import Path\n",
    "\n",
    "# We are including our repository bin to the system path so that we can use some handy functions\n",
    "bin_path = Path.cwd().parents[0] / 'bin'\n",
    "if bin_path not in sys.path:\n",
    "    sys.path.append(str(bin_path))\n",
    "\n",
    "import gnssrefl_helpers\n",
    "\n",
    "# Making sure environment variables are set - this is required to run the gnssrefl code\n",
    "\n",
    "exists = gnssrefl_helpers.check_environment()\n",
    "if exists == False:\n",
    "    #If you are running this locally - make sure the items in the exe folder have execution permissions\n",
    "    gnssrefl_helpers.set_environment(refl_code=str(Path.cwd().parents[0]),\n",
    "                                     orbits=str(Path.cwd().parents[0] / \"orbits\"),\n",
    "                                     exe=str(Path.cwd().parents[0] / \"bin\" / \"exe\"))\n",
    "\n",
    "# Set local variable of refl_code location\n",
    "refl_code_loc = os.environ['REFL_CODE']"
   ]
  },
  {
   "cell_type": "markdown",
   "id": "8d5bd2a9",
   "metadata": {
    "pycharm": {
     "name": "#%% md\n"
    }
   },
   "source": [
    "### Step 3. Download and check EXE dependencies are present:\n",
    "\n",
    "use environment.download_crx2rnx to import the crx2rnx file(Required translator for compressed (Hatanaka) RINEX files) which is dependant on your working OS - this is required to run the gnssrefl code.\n",
    "\n",
    "If this does not properly find your running os, then it will print out an error and instruct you how to add a parameter to manually set which os you are using.\n",
    "\n",
    "Note that this function relies on your environment variables to be properly set."
   ]
  },
  {
   "cell_type": "code",
   "execution_count": 13,
   "id": "7a87b4e1",
   "metadata": {
    "pycharm": {
     "name": "#%%\n"
    }
   },
   "outputs": [
    {
     "name": "stdout",
     "output_type": "stream",
     "text": [
      "files in exe folder: ['.DS_Store', 'CRX2RNX', 'RNXCMP_4.1.0_MacOSX10.14_gcc', 'gfzrnx_2.0-8219_osx_arm64', 'teqc', 'gfzrnx_1.15-8044_lx64', 'gfzrnx_2.0-8219_armlx64', 'gfzrnx_2.0-8219_lx64', 'RNXCMP_4.1.0_MacOSX10.14_gcc.tar.gz']\n",
      "Your executable environment area:  /Users/enloe/UNAVCO_Projects/git/gnssrefl_jupyter/bin/exe\n",
      "You already have this executable: CRX2RNX\n",
      "Executable already exists: teqc\n",
      "\n",
      " Executable stored: gfzrnx\n"
     ]
    }
   ],
   "source": [
    "print('files in exe folder:', os.listdir(os.environ['EXE']))\n",
    "\n",
    "#import gnssrefl rinex2snr function (environment variables must be set first)\n",
    "from gnssrefl.rinex2snr_cl import rinex2snr\n",
    "from gnssrefl.installexe_cl import installexe\n",
    "\n",
    "# Download the executablines\n",
    "try:\n",
    "    os.environ['DOCKER']\n",
    "except KeyError:\n",
    "    sys = gnssrefl_helpers.get_sys()\n",
    "    installexe(sys)"
   ]
  },
  {
   "cell_type": "markdown",
   "id": "90d27a33",
   "metadata": {
    "pycharm": {
     "name": "#%% md\n"
    }
   },
   "source": [
    "If you see 'CRX2RNX' and 'gfzrnx' in your EXE folder then you are all set. \n",
    "\n",
    "**Note*** that the gfzrnx file was in the exe when you pulled the repository - it currently is set for a linux environment and can only be used with the docker version of the jupyter notebooks or if you are running linux. The gfzrnx file is not required to run the code - but is needed if you want to work with RINEX3 files. If you need to download the correct version for your os then download from [here](http://dx.doi.org/10.5880/GFZ.1.1.2016.002) and then place it in your exe folder."
   ]
  },
  {
   "cell_type": "markdown",
   "id": "c1840fe5",
   "metadata": {
    "pycharm": {
     "name": "#%% md\n"
    }
   },
   "source": [
    "### Step 4. Run a quick Analysis"
   ]
  },
  {
   "cell_type": "markdown",
   "id": "b10b786f",
   "metadata": {
    "pycharm": {
     "name": "#%% md\n"
    }
   },
   "source": [
    "#### a. simple use case that requires CRX2RNX and broadcast orbits:"
   ]
  },
  {
   "cell_type": "code",
   "execution_count": 6,
   "id": "46681bb5",
   "metadata": {
    "pycharm": {
     "name": "#%%\n"
    }
   },
   "outputs": [],
   "source": [
    "station = 'p042'\n",
    "year = 2018\n",
    "doy = 150"
   ]
  },
  {
   "cell_type": "markdown",
   "id": "fdc5d12b",
   "metadata": {
    "pycharm": {
     "name": "#%% md\n"
    }
   },
   "source": [
    "To understand what rinex2snr returns, lets look at the function's available and default parameters:"
   ]
  },
  {
   "cell_type": "code",
   "execution_count": 7,
   "id": "719426c4",
   "metadata": {
    "pycharm": {
     "name": "#%%\n"
    }
   },
   "outputs": [],
   "source": [
    "rinex2snr?"
   ]
  },
  {
   "cell_type": "markdown",
   "id": "3879ff8a",
   "metadata": {
    "pycharm": {
     "name": "#%% md\n"
    }
   },
   "source": [
    "Now lets run the function without changing any of the defaults."
   ]
  },
  {
   "cell_type": "code",
   "execution_count": 8,
   "id": "2761900b",
   "metadata": {
    "pycharm": {
     "name": "#%%\n"
    }
   },
   "outputs": [
    {
     "name": "stdout",
     "output_type": "stream",
     "text": [
      "Will seek the RINEX file from an external archive\n",
      "p042  year: 2018  doy: 150 from:  all\n",
      "Requested a GPS only nav file\n",
      "Nav file exists online\n",
      "Orbit file:  /Users/enloe/UNAVCO_Projects/git/gnssrefl_jupyter/orbits/2018/nav/auto1500.18n\n",
      "Searching the  sopac  archive for  p042\n",
      "ftp://garner.ucsd.edu/pub/rinex/2018/150/p0421500.18d.Z\n",
      "\n",
      " File has been found  p0421500.18d.Z\n",
      "Download took  1.3  seconds\n",
      "\n",
      "\n",
      "SUCCESS: SNR file was created: /Users/enloe/UNAVCO_Projects/git/gnssrefl_jupyter/2018/snr/p042/p0421500.18.snr66\n",
      "That took  1.95  seconds\n",
      "Feedback written to subdirectory logs\n"
     ]
    }
   ],
   "source": [
    "rinex2snr(station, year, doy)"
   ]
  },
  {
   "cell_type": "markdown",
   "id": "46d19557",
   "metadata": {
    "pycharm": {
     "name": "#%% md\n"
    }
   },
   "source": [
    "you've successfully run the rinex2snr program that:\n",
    "* downloaded and uncompressed [hatanaka](https://www.unavco.org/data/gps-gnss/hatanaka/hatanaka.html) rinex for a single station (p042) for a single day (doy 150 in 2018)\n",
    "* downloaded GPS broadcast orbits\n",
    "* calculated azimuth and elevation for each satellite at each epoch given these orbits\n",
    "* wrote this az/el, signal, time and CN0 information to a formatted snr output file\n",
    "for future analysis.\n",
    "Reminder, the .66 file name suffix refers to the\n",
    "[elevation masking options](https://github.com/kristinemlarson/gnssrefl#iv-rinex2snr---extracting-snr-data-from-rinex-files-)."
   ]
  },
  {
   "cell_type": "markdown",
   "id": "7a4f5f88",
   "metadata": {
    "pycharm": {
     "name": "#%% md\n"
    }
   },
   "source": [
    "#### b. simple use case that requires CRX2RNX and SP3 orbits:"
   ]
  },
  {
   "cell_type": "markdown",
   "id": "770ef291",
   "metadata": {
    "pycharm": {
     "name": "#%% md\n"
    }
   },
   "source": [
    "Here we will run rinex2snr for the same day, but lets change the 'orb' parameter to gnss."
   ]
  },
  {
   "cell_type": "code",
   "execution_count": 9,
   "id": "f0cf44ff",
   "metadata": {
    "pycharm": {
     "name": "#%%\n"
    }
   },
   "outputs": [
    {
     "name": "stdout",
     "output_type": "stream",
     "text": [
      "SNR file already exists /Users/enloe/UNAVCO_Projects/git/gnssrefl_jupyter/2018/snr/p042/p0421500.18.snr66\n",
      "That took  0.0  seconds\n",
      "Feedback written to subdirectory logs\n"
     ]
    }
   ],
   "source": [
    "rinex2snr(station, year, doy=doy, orb='gnss')"
   ]
  },
  {
   "cell_type": "markdown",
   "id": "af3eeed4",
   "metadata": {
    "pycharm": {
     "name": "#%% md\n"
    }
   },
   "source": [
    "Note* If you get:\n",
    "*SNR file exists...*\\\n",
    "This is because the logic of gnssrefl checks for an snr file prior for processing - and we already processed this day earlier.\n",
    "Remember this fact if you ever want to **re**-process with different orbits!\n",
    "You can use the overwrite parameter to overwrite files if you want to reprocess.\n",
    "Now lets try that again."
   ]
  },
  {
   "cell_type": "code",
   "execution_count": 10,
   "id": "d871346d",
   "metadata": {
    "pycharm": {
     "name": "#%%\n"
    }
   },
   "outputs": [
    {
     "name": "stdout",
     "output_type": "stream",
     "text": [
      "File exists, you requested overwriting, so will delete existing file\n",
      "Will seek the RINEX file from an external archive\n",
      "p042  year: 2018  doy: 150 from:  all\n",
      "Type 1 filename gbm20033.sp3.Z\n",
      "Type 2 filename GFZ0MGXRAP_20181500000_01D_05M_ORB.SP3.gz\n",
      "/gps/products/mgex/2003/ gbm20033.sp3.Z\n",
      "Orbit file:  /Users/enloe/UNAVCO_Projects/git/gnssrefl_jupyter/orbits/2018/sp3/gbm20033.sp3\n",
      "Searching the  sopac  archive for  p042\n",
      "ftp://garner.ucsd.edu/pub/rinex/2018/150/p0421500.18d.Z\n",
      "\n",
      " File has been found  p0421500.18d.Z\n",
      "Download took  1.04  seconds\n",
      "\n",
      "\n",
      "SUCCESS: SNR file was created: /Users/enloe/UNAVCO_Projects/git/gnssrefl_jupyter/2018/snr/p042/p0421500.18.snr66\n",
      "That took  3.69  seconds\n",
      "Feedback written to subdirectory logs\n"
     ]
    }
   ],
   "source": [
    "rinex2snr(station, year, doy=150, orb='gnss', overwrite=True)"
   ]
  },
  {
   "cell_type": "markdown",
   "id": "adb16788",
   "metadata": {
    "pycharm": {
     "name": "#%% md\n"
    }
   },
   "source": [
    "If you get:\n",
    "SUCCESS: SNR file was created: ...\n",
    "you've successfully:\n",
    "\n",
    "* downloaded and uncompressed hatanaka rinex for a single station (p042) for a single day (doy 150 in 2018)\n",
    "* downloaded SP3 format GNSS orbits from the GFZ archive\n",
    "* calculated azimuth and elevation for each satellite at each epoch\n",
    "* wrote this az/el, signal, time and CN0 information to a formatted snr output file for future analysis."
   ]
  },
  {
   "cell_type": "markdown",
   "id": "2016cf18",
   "metadata": {
    "pycharm": {
     "name": "#%% md\n"
    }
   },
   "source": [
    "#### c. (OPTIONAL - requires the gfzrnx executable mentioned previously ) RINEX 3 simple use case that requires gfzrnx"
   ]
  },
  {
   "cell_type": "markdown",
   "id": "c5c8b226",
   "metadata": {
    "pycharm": {
     "name": "#%% md\n"
    }
   },
   "source": [
    "**If** you are interested in using RINEX version 3 data, please run this test:\n",
    "\n",
    "note: this will fail if you do not have the correct system-dependant gfzrnx translation file. See the instructions above to get this file."
   ]
  },
  {
   "cell_type": "code",
   "execution_count": 14,
   "id": "cc55cb55",
   "metadata": {
    "pycharm": {
     "name": "#%%\n"
    }
   },
   "outputs": [
    {
     "name": "stdout",
     "output_type": "stream",
     "text": [
      "Will seek the RINEX file from an external archive\n",
      "ONSA00SWE  year: 2020  doy: 1 from:  cddis\n",
      "Searching the  cddis  archive with rate/filetype 30 R\n",
      "Filename: ONSA00SWE_R_20200010000_01D_30S_MO.crx.gz\n",
      "Download took  2.6  seconds\n",
      "File exists:  ONSA00SWE_R_20200010000_01D_30S_MO.crx.gz  at  cddis\n",
      "remove Hatanaka compressed file\n",
      "The RINEX 3 file has been downloaded. Try to make  onsa0010.20o\n"
     ]
    },
    {
     "name": "stderr",
     "output_type": "stream",
     "text": [
      "The file ONSA00SWE_R_20200010000_01D_30S_MO.rnx already exists. Overwrite?(n)"
     ]
    },
    {
     "name": "stdout",
     "output_type": "stream",
     "text": [
      "Look for the rinex 2.11 file here:  onsa0010.20o\n",
      "gfzrnx rinex3 to rinex 2: 6.22  seconds\n",
      "RINEX 2 created from v3 2020 1  Now remove RINEX 3 files and convert\n",
      "Type 1 filename gbm20863.sp3.Z\n",
      "Type 2 filename GFZ0MGXRAP_20200010000_01D_05M_ORB.SP3.gz\n",
      "/gps/products/mgex/2086/ gbm20863.sp3.Z\n",
      "/gps/products/mgex/2086/ GFZ0MGXRAP_20200010000_01D_05M_ORB.SP3.gz\n",
      "Orbit file:  /Users/enloe/UNAVCO_Projects/git/gnssrefl_jupyter/orbits/2020/sp3/GFZ0MGXRAP_20200010000_01D_05M_ORB.SP3\n",
      "\n",
      "\n",
      "SUCCESS: SNR file was created: /Users/enloe/UNAVCO_Projects/git/gnssrefl_jupyter/2020/snr/onsa/onsa0010.20.snr66\n",
      "That took  13.15  seconds\n",
      "Feedback written to subdirectory logs\n"
     ]
    }
   ],
   "source": [
    "rinex2snr(station='onsa00swe', year=2020, doy=1, archive='cddis', orb='gnss')"
   ]
  },
  {
   "cell_type": "markdown",
   "id": "5e561106",
   "metadata": {
    "pycharm": {
     "name": "#%% md\n"
    }
   },
   "source": [
    "If you get:\n",
    "*SUCCESS: SNR file was created: ...* \\\n",
    "you've successfully:\n",
    "* downloaded and uncompressed rinex 3 for a single station (onsa)\n",
    "for a single day (doy 1 in 2020) from the cddis archive\n",
    "* converted rinex 3 to rinex 2 using gfzrnx executable\n",
    "* downloaded SP3 format GNSS orbits from the GFZ archive\n",
    "* calculated azimuth and elevation for each satellite at each epoch\n",
    "* wrote this az/el, signal, time and CN0 information to a formatted\n",
    "snr output file for future analysis."
   ]
  },
  {
   "cell_type": "code",
   "execution_count": 11,
   "id": "d5e281c9",
   "metadata": {
    "pycharm": {
     "name": "#%%\n"
    }
   },
   "outputs": [],
   "source": []
  }
 ],
 "metadata": {
  "kernelspec": {
   "display_name": "gnssrefl_jupyter",
   "language": "python",
   "name": "gnssrefl_jupyter"
  },
  "language_info": {
   "codemirror_mode": {
    "name": "ipython",
    "version": 3
   },
   "file_extension": ".py",
   "mimetype": "text/x-python",
   "name": "python",
   "nbconvert_exporter": "python",
   "pygments_lexer": "ipython3",
   "version": "3.9.8"
  }
 },
 "nbformat": 4,
 "nbformat_minor": 5
}
