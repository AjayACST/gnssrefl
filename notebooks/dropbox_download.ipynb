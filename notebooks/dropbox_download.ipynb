{
 "cells": [
  {
   "cell_type": "markdown",
   "id": "73c81a0c209a5971",
   "metadata": {},
   "source": [
    "# Dropbox Download Notebook\n",
    "This notebook downloads the NMEA data from Dropbox, parses the multiple hourly files into a single daily file, and saves it in the correct folder.\n",
    "\n",
    "<b>Note:</b> This notebook requires the credentials file generated in the `dropbox_credentials.ipynb` notebook to be present in the same directory."
   ]
  },
  {
   "cell_type": "code",
   "execution_count": null,
   "id": "initial_id",
   "metadata": {},
   "outputs": [],
   "source": [
    "from dropbox import Dropbox\n",
    "from dropbox.files import FileMetadata, FolderMetadata\n",
    "from datetime import datetime\n",
    "import json\n",
    "import os\n",
    "import shutil\n",
    "import glob"
   ]
  },
  {
   "cell_type": "markdown",
   "id": "7a8744c9-6130-4517-bb5d-b30d34fa2c1d",
   "metadata": {},
   "source": [
    "The below code will ensure that the access token is valid and refresh it if necessary."
   ]
  },
  {
   "cell_type": "code",
   "execution_count": null,
   "id": "6d714220f54196d8",
   "metadata": {},
   "outputs": [],
   "source": [
    "app_key = 'your_app_key_here'\n",
    "app_secret = 'your_app_secret_here'\n",
    "\n",
    "\n",
    "def load_credentials():\n",
    "    try:\n",
    "        with open('dropbox_creds.json', 'r') as f:\n",
    "            creds = json.load(f)\n",
    "            return creds\n",
    "    except FileNotFoundError:\n",
    "        print(\"Credentials file not found. Please run the dropbox_credentials.ipynb notebook first.\")\n",
    "        return None\n",
    "\n",
    "\n",
    "def create_dropbox_client():\n",
    "    creds = load_credentials()\n",
    "    if creds is None:\n",
    "        return None\n",
    "    access_token = creds['access_token']\n",
    "    refresh_token = creds['refresh_token']\n",
    "    dbx = Dropbox(app_key=app_key,\n",
    "                  app_secret=app_secret,\n",
    "                  oauth2_access_token=access_token,\n",
    "                  oauth2_refresh_token=refresh_token)\n",
    "    dbx.refresh_access_token()\n",
    "\n",
    "    return dbx\n",
    "\n",
    "\n",
    "dbx = create_dropbox_client()\n",
    "if dbx is None:\n",
    "    print(\"Failed to create Dropbox client.\")\n",
    "else:\n",
    "    print(\"Successfully connected to Dropbox account: \" + \n",
    "          f\"{dbx.users_get_current_account().name.display_name}\")"
   ]
  },
  {
   "cell_type": "markdown",
   "id": "a197b859-5fcd-40c3-b10f-834488abf6ce",
   "metadata": {},
   "source": [
    "## Download files\n",
    "The below function creates a temp directory to store downloaded NMEA data in, gets all files inside the apps directory in Dropbox, then loops over the files, downloads them, checks to see if the file is a valid file (not DEFAULT.log) and then adds it to an array for later processing"
   ]
  },
  {
   "cell_type": "code",
   "execution_count": null,
   "id": "a1cfa9f69ff00156",
   "metadata": {},
   "outputs": [],
   "source": [
    "def download_files():\n",
    "    \"\"\"\n",
    "    Downloads all files from Dropbox into a tmp directory.\n",
    "    \"\"\"\n",
    "    os.makedirs(\"tmp\", exist_ok=True)\n",
    "\n",
    "    entries = []\n",
    "    result = dbx.files_list_folder(\"\")\n",
    "    entries.extend(result.entries)\n",
    "\n",
    "    downloaded = []\n",
    "\n",
    "    # handle pagination\n",
    "    while result.has_more:\n",
    "        result = dbx.files_list_folder_continue(result.cursor)\n",
    "        entries.extend(result.entries)\n",
    "\n",
    "    for entry in entries:\n",
    "        if isinstance(entry, FileMetadata):\n",
    "            remote_path = entry.path_lower\n",
    "            fname = os.path.basename(remote_path) #just the file name without any direcotry slashes\n",
    "            name, _ = os.path.splitext(fname) #just the filename ignoring the extension (.log)\n",
    "            local_path = os.path.join(\"tmp\", fname) # create the local file path\n",
    "\n",
    "            print(f\"Downloading {remote_path} -> {local_path} ...\")\n",
    "            dbx.files_download_to_file(local_path, remote_path)\n",
    "            try:\n",
    "                downloaded.append(datetime.strptime(name, \"%y%m%d%H\"))\n",
    "            except ValueError:\n",
    "                # skip this file it has an invalid date, is probably default.log\n",
    "                print(f\"Deleting file {fname} due to invalid date format\")\n",
    "                os.remove(local_path)\n",
    "        else:\n",
    "            print(f\"Skipping folder/other file type: {entry.path_lower}\")\n",
    "\n",
    "    print(\"Finished Downloading!\")\n",
    "    return downloaded"
   ]
  },
  {
   "cell_type": "code",
   "execution_count": null,
   "id": "ec6000871668049d",
   "metadata": {},
   "outputs": [],
   "source": [
    "files_downloaded = download_files() # actually run the function, this can take a while to download if you have lots of files"
   ]
  },
  {
   "cell_type": "markdown",
   "id": "833cde64-ee67-45ba-ac0f-444b28b30e3c",
   "metadata": {},
   "source": [
    "## Format Files\n",
    "Currently our files are in the wrong directory and are hourly files, while we need daily files.\n",
    "This code will loop over all the files downloaded, format the file name correctly (`station_nameDDD0.YY.A`) and then copy all files that are from the same day into the same folder. If you would like to use a different station name change `station_name` below. It needs to be a 4 character alphanumeric code."
   ]
  },
  {
   "cell_type": "code",
   "execution_count": null,
   "id": "4132dc34-83ce-42cf-87eb-cb98a33397b2",
   "metadata": {},
   "outputs": [],
   "source": [
    "station_name = 'feld'\n",
    "\n",
    "downloaded_dates = []\n",
    "files_downloaded = sorted(files_downloaded)\n",
    "for file_time in files_downloaded:\n",
    "    date = file_time.date()\n",
    "    if date in downloaded_dates:\n",
    "        continue\n",
    "    downloaded_dates.append(date)\n",
    "    # Get the day of year\n",
    "    day_of_year = file_time.timetuple().tm_yday\n",
    "    output_file_name = f\"/{station_name}{day_of_year}0.{date.strftime('%y')}.A\"\n",
    "    output_file_path = \"refl_code/nmea/\"+station_name+\"/\"+str(file_time.timetuple().tm_year)\n",
    "    os.makedirs(output_file_path, exist_ok=True)\n",
    "    with open(output_file_path+\"/\"+output_file_name, \"wb+\") as f:\n",
    "        with open(\"tmp/\"+file_time.strftime(\"%y%m%d%H\")+\".log\", \"rb+\") as f2:\n",
    "            shutil.copyfileobj(f2,f)\n",
    "        f2.close()\n",
    "    f.close()"
   ]
  },
  {
   "cell_type": "markdown",
   "id": "a531746a-f791-4f13-8d7c-1d7b5897468a",
   "metadata": {},
   "source": [
    "## Cleanup\n",
    "Removes the all files from the tmp directory and deletes the tmp directory."
   ]
  },
  {
   "cell_type": "code",
   "execution_count": null,
   "id": "39bbd95f-b1dc-4f16-badf-0de061300fc5",
   "metadata": {},
   "outputs": [],
   "source": [
    "cleanup = glob.glob('tmp/*')\n",
    "for file in cleanup:\n",
    "    os.remove(file)\n",
    "shutil.rmtree(\"tmp\")"
   ]
  }
 ],
 "metadata": {
  "kernelspec": {
   "display_name": "Python 3 (ipykernel)",
   "language": "python",
   "name": "python3"
  },
  "language_info": {
   "codemirror_mode": {
    "name": "ipython",
    "version": 3
   },
   "file_extension": ".py",
   "mimetype": "text/x-python",
   "name": "python",
   "nbconvert_exporter": "python",
   "pygments_lexer": "ipython3",
   "version": "3.12.10"
  }
 },
 "nbformat": 4,
 "nbformat_minor": 5
}
