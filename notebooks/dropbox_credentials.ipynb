{
 "cells": [
  {
   "cell_type": "markdown",
   "id": "90274fb0efb25881",
   "metadata": {},
   "source": [
    "# Dropbox OAuth2 Credentials Notebook\n",
    "This notebook implements the OAuth2 flow for Dropbox to download the credentials needed to access your Dropbox account. You will need to run this notebook before running any other Dropbox-related notebooks in this repository."
   ]
  },
  {
   "cell_type": "code",
   "execution_count": null,
   "id": "initial_id",
   "metadata": {},
   "outputs": [],
   "source": [
    "from dropbox.oauth import DropboxOAuth2FlowNoRedirect\n",
    "import json"
   ]
  },
  {
   "cell_type": "markdown",
   "id": "711624b75820e3f1",
   "metadata": {},
   "source": [
    "## Step 1\n",
    "Get the credentials for your dropbox app. The [tutorial in section 1.4](https://github.com/AjayACST/gnss-ir-nz/blob/main/tutorial_pdfindex.pdf) has instructions on how to get your app_key and app_secret, paste them below.\n",
    "\n",
    "Copy the link generated into a new tab in your browser, and paste the authorization code that you get back into the input below."
   ]
  },
  {
   "cell_type": "code",
   "execution_count": null,
   "id": "8f091b2266f0ac57",
   "metadata": {},
   "outputs": [],
   "source": [
    "app_key = 'your_app_key_here'\n",
    "app_secret = 'your_app_secret_here'\n",
    "\n",
    "flow = DropboxOAuth2FlowNoRedirect(\n",
    "    consumer_key=app_key,\n",
    "    consumer_secret=app_secret,\n",
    "    token_access_type='offline',\n",
    ")\n",
    "\n",
    "authorize_url = flow.start()\n",
    "\n",
    "print(\"\\n1. Go to: {}\".format(authorize_url))\n",
    "print(\"2. Click \\\"Allow\\\" (you might have to log in first).\")\n",
    "print(\"3. Copy the authorization code.\\n\")\n",
    "\n",
    "auth_code = input(\"Enter the authorization code here: \").strip()\n",
    "\n",
    "try:\n",
    "    oauth_result = flow.finish(auth_code)\n",
    "except Exception as e:\n",
    "    print(\"Error: {}\".format(e))"
   ]
  },
  {
   "cell_type": "markdown",
   "id": "4fdd4fef47960097",
   "metadata": {},
   "source": [
    "Now that we have the credentials, we can save them to a JSON file for later use."
   ]
  },
  {
   "cell_type": "code",
   "execution_count": null,
   "id": "6e8625e647077d50",
   "metadata": {},
   "outputs": [],
   "source": [
    "creds = {\n",
    "    \"access_token\": oauth_result.access_token,\n",
    "    \"refresh_token\": oauth_result.refresh_token,\n",
    "    \"expiration\": oauth_result.expires_at.strftime(\"%m/%d/%Y, %H:%M:%S\"),\n",
    "}\n",
    "\n",
    "out_path = 'dropbox_creds.json'\n",
    "\n",
    "with open(out_path, 'w') as f:\n",
    "    json.dump(creds, f)\n",
    "print(f\"Credentials saved to {out_path}\")"
   ]
  },
  {
   "cell_type": "markdown",
   "id": "45541dc03a0f47ae",
   "metadata": {},
   "source": [
    "If you are using these credentials for the arduino, right click the new file in the file browser to the left and select \"Download\", the tutorial PDF has further instructions for next steps."
   ]
  }
 ],
 "metadata": {
  "kernelspec": {
   "display_name": "Python 3 (ipykernel)",
   "language": "python",
   "name": "python3"
  },
  "language_info": {
   "codemirror_mode": {
    "name": "ipython",
    "version": 3
   },
   "file_extension": ".py",
   "mimetype": "text/x-python",
   "name": "python",
   "nbconvert_exporter": "python",
   "pygments_lexer": "ipython3",
   "version": "3.11.5"
  }
 },
 "nbformat": 4,
 "nbformat_minor": 5
}
